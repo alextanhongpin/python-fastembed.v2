{
 "cells": [
  {
   "cell_type": "markdown",
   "id": "1936768b-d7dc-48ac-bf13-c26756f0494b",
   "metadata": {},
   "source": [
    "# Advance Retrieval 101: Use Collaborative Filtering to Build a Movie Recommendation System\n",
    "\n",
    "https://qdrant.tech/documentation/advanced-tutorials/collaborative-filtering/"
   ]
  },
  {
   "cell_type": "code",
   "execution_count": 2,
   "id": "dc0a62d4-4abb-480e-bdb5-86ca70bdfe20",
   "metadata": {},
   "outputs": [],
   "source": [
    "from collections import defaultdict\n",
    "\n",
    "import pandas as pd\n",
    "from qdrant_client import QdrantClient, models\n",
    "from qdrant_client.models import NamedSparseVector, PointStruct, SparseVector"
   ]
  },
  {
   "cell_type": "markdown",
   "id": "69d801ca-6d98-419e-b00c-8550635fa32b",
   "metadata": {},
   "source": [
    "## Prepare the data"
   ]
  },
  {
   "cell_type": "code",
   "execution_count": 4,
   "id": "906032b2-7a88-4c49-a317-5b1884408cd0",
   "metadata": {},
   "outputs": [
    {
     "data": {
      "text/html": [
       "<div>\n",
       "<style scoped>\n",
       "    .dataframe tbody tr th:only-of-type {\n",
       "        vertical-align: middle;\n",
       "    }\n",
       "\n",
       "    .dataframe tbody tr th {\n",
       "        vertical-align: top;\n",
       "    }\n",
       "\n",
       "    .dataframe thead th {\n",
       "        text-align: right;\n",
       "    }\n",
       "</style>\n",
       "<table border=\"1\" class=\"dataframe\">\n",
       "  <thead>\n",
       "    <tr style=\"text-align: right;\">\n",
       "      <th></th>\n",
       "      <th>userId</th>\n",
       "      <th>movieId</th>\n",
       "      <th>rating</th>\n",
       "    </tr>\n",
       "  </thead>\n",
       "  <tbody>\n",
       "    <tr>\n",
       "      <th>0</th>\n",
       "      <td>1</td>\n",
       "      <td>1</td>\n",
       "      <td>0.478109</td>\n",
       "    </tr>\n",
       "    <tr>\n",
       "      <th>1</th>\n",
       "      <td>1</td>\n",
       "      <td>1009</td>\n",
       "      <td>-0.481096</td>\n",
       "    </tr>\n",
       "    <tr>\n",
       "      <th>2</th>\n",
       "      <td>1</td>\n",
       "      <td>101</td>\n",
       "      <td>1.437315</td>\n",
       "    </tr>\n",
       "    <tr>\n",
       "      <th>3</th>\n",
       "      <td>1</td>\n",
       "      <td>1023</td>\n",
       "      <td>1.437315</td>\n",
       "    </tr>\n",
       "    <tr>\n",
       "      <th>4</th>\n",
       "      <td>1</td>\n",
       "      <td>1024</td>\n",
       "      <td>1.437315</td>\n",
       "    </tr>\n",
       "  </tbody>\n",
       "</table>\n",
       "</div>"
      ],
      "text/plain": [
       "   userId movieId    rating\n",
       "0       1       1  0.478109\n",
       "1       1    1009 -0.481096\n",
       "2       1     101  1.437315\n",
       "3       1    1023  1.437315\n",
       "4       1    1024  1.437315"
      ]
     },
     "execution_count": 4,
     "metadata": {},
     "output_type": "execute_result"
    }
   ],
   "source": [
    "# Load CSV file\n",
    "ratings_df = pd.read_csv(\"data/ml-latest-small/ratings.csv\", low_memory=False)\n",
    "movies_df = pd.read_csv(\"data/ml-latest-small/movies.csv\", low_memory=False)\n",
    "\n",
    "# Convert movieId in ratings_df and movies_df to string\n",
    "ratings_df[\"movieId\"] = ratings_df[\"movieId\"].astype(str)\n",
    "movies_df[\"movieId\"] = movies_df[\"movieId\"].astype(str)\n",
    "\n",
    "rating = ratings_df[\"rating\"]\n",
    "\n",
    "# Normalize ratings\n",
    "ratings_df[\"rating\"] = (rating - rating.mean()) / rating.std()\n",
    "\n",
    "# Merge rating with movie metadata to get movie titles\n",
    "merged_df = ratings_df.merge(\n",
    "    movies_df[[\"movieId\", \"title\"]], left_on=\"movieId\", right_on=\"movieId\", how=\"inner\"\n",
    ")\n",
    "\n",
    "# Aggregate ratings to handle duplicate (userId, title) pairs\n",
    "ratings_agg_df = merged_df.groupby([\"userId\", \"movieId\"]).rating.mean().reset_index()\n",
    "ratings_agg_df.head()"
   ]
  },
  {
   "cell_type": "markdown",
   "id": "61e4caa9-d4b1-41ec-97b6-35b29fc2dfc0",
   "metadata": {},
   "source": [
    "## Convert to Sparse"
   ]
  },
  {
   "cell_type": "code",
   "execution_count": 6,
   "id": "8d66e1d7-9e25-4309-a92e-b1227dfcd474",
   "metadata": {},
   "outputs": [],
   "source": [
    "# Convert ratings to sparse vectors.\n",
    "user_sparse_vectors = defaultdict(lambda: {\"values\": [], \"indices\": []})\n",
    "for row in ratings_agg_df.itertuples():\n",
    "    user_sparse_vectors[row.userId][\"values\"].append(row.rating)\n",
    "    user_sparse_vectors[row.userId][\"indices\"].append(int(row.movieId))"
   ]
  },
  {
   "cell_type": "markdown",
   "id": "98364cfd-dcd6-401e-923a-687a63a7dbc3",
   "metadata": {},
   "source": [
    "## Upload the data"
   ]
  },
  {
   "cell_type": "code",
   "execution_count": 28,
   "id": "fb693a9a-211b-4511-8be3-b987b9fa57c9",
   "metadata": {},
   "outputs": [],
   "source": [
    "def data_generator():\n",
    "    for user_id, sparse_vector in user_sparse_vectors.items():\n",
    "        yield PointStruct(\n",
    "            id=user_id,\n",
    "            vector={\n",
    "                \"ratings\": SparseVector(\n",
    "                    indices=sparse_vector[\"indices\"], values=sparse_vector[\"values\"]\n",
    "                )\n",
    "            },\n",
    "            payload={\"user_id\": user_id, \"movie_id\": sparse_vector[\"indices\"]},\n",
    "        )\n",
    "\n",
    "\n",
    "client = QdrantClient(\":memory:\")\n",
    "client.create_collection(\n",
    "    collection_name=\"movies\",\n",
    "    sparse_vectors_config={\"ratings\": models.SparseVectorParams()},\n",
    "    vectors_config={},\n",
    ")\n",
    "client.upload_points(\n",
    "    collection_name=\"movies\",\n",
    "    points=data_generator(),\n",
    ")"
   ]
  },
  {
   "cell_type": "markdown",
   "id": "c0e8c714-570a-42e0-819e-069037724b40",
   "metadata": {},
   "source": [
    "## Define query"
   ]
  },
  {
   "cell_type": "code",
   "execution_count": 23,
   "id": "fc51a63f-7a32-436c-8ba3-fc28dda96b2e",
   "metadata": {},
   "outputs": [],
   "source": [
    "my_ratings = {\n",
    "    603: 1,  # Matrix\n",
    "    13475: 1,  # Star Trek\n",
    "    11: 1,  # Star Wars\n",
    "    1091: -1,  # The Thing\n",
    "    862: 1,  # Toy Story\n",
    "    597: -1,  # Titanic\n",
    "    680: -1,  # Pulp Fiction\n",
    "    13: 1,  # Forrest Gump\n",
    "    120: 1,  # Lord of the Rings\n",
    "    87: -1,  # Indiana Jones\n",
    "    562: -1,  # Die Hard\n",
    "}"
   ]
  },
  {
   "cell_type": "code",
   "execution_count": 29,
   "id": "f1e735d4-2eb0-439a-9eff-f83b0fc647f7",
   "metadata": {},
   "outputs": [],
   "source": [
    "# Create sparse vector from my_ratings\n",
    "def to_vector(ratings):\n",
    "    vector = SparseVector(values=[], indices=[])\n",
    "    for movie_id, rating in ratings.items():\n",
    "        vector.values.append(rating)\n",
    "        vector.indices.append(movie_id)\n",
    "    return vector"
   ]
  },
  {
   "cell_type": "markdown",
   "id": "c2db1720-ffcc-42f6-acf4-bd5b4f99b2fb",
   "metadata": {},
   "source": [
    "## Run the query"
   ]
  },
  {
   "cell_type": "code",
   "execution_count": 48,
   "id": "ff237ddf-def8-4a44-b5cc-25392c774bea",
   "metadata": {},
   "outputs": [],
   "source": [
    "# Perform the search\n",
    "results = client.query_points(\n",
    "    collection_name=\"movies\", query=to_vector(my_ratings), using=\"ratings\", limit=20\n",
    ").points"
   ]
  },
  {
   "cell_type": "code",
   "execution_count": 49,
   "id": "50c462b4-000c-4b72-8cbe-d7d02bec4af6",
   "metadata": {},
   "outputs": [],
   "source": [
    "# Convert results to scores and sort by score\n",
    "def results_to_scores(results):\n",
    "    movie_scores = defaultdict(lambda: 0)\n",
    "    for result in results:\n",
    "        for movie_id in result.payload[\"movie_id\"]:\n",
    "            movie_scores[movie_id] += result.score\n",
    "    return movie_scores\n",
    "\n",
    "\n",
    "# Convert results to scores and sort by score\n",
    "movie_scores = results_to_scores(results)\n",
    "top_movies = sorted(movie_scores.items(), key=lambda x: x[1], reverse=True)"
   ]
  },
  {
   "cell_type": "code",
   "execution_count": 59,
   "id": "08b7c8d3-8fdf-4577-8f27-8c02c50b249d",
   "metadata": {},
   "outputs": [
    {
     "name": "stdout",
     "output_type": "stream",
     "text": [
      "Forrest Gump (1994) 44.63442826271057\n",
      "Pulp Fiction (1994) 43.19412624835968\n",
      "Pretty Woman (1990) 42.71452331542969\n",
      "Star Wars: Episode V - The Empire Strikes Back (1980) 37.91998839378357\n",
      "American Beauty (1999) 37.91849493980408\n"
     ]
    }
   ],
   "source": [
    "for movieId, score in top_movies[:5]:\n",
    "    movie = movies_df[movies_df['movieId'] == str(movieId)]\n",
    "    print(movie.title.values[0], score)"
   ]
  }
 ],
 "metadata": {
  "kernelspec": {
   "display_name": "Python 3 (ipykernel)",
   "language": "python",
   "name": "python3"
  },
  "language_info": {
   "codemirror_mode": {
    "name": "ipython",
    "version": 3
   },
   "file_extension": ".py",
   "mimetype": "text/x-python",
   "name": "python",
   "nbconvert_exporter": "python",
   "pygments_lexer": "ipython3",
   "version": "3.12.9"
  }
 },
 "nbformat": 4,
 "nbformat_minor": 5
}
