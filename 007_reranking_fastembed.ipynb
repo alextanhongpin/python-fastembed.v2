{
 "cells": [
  {
   "cell_type": "markdown",
   "id": "0a8bf73d-21af-44f3-ba3c-690d12c3c4c9",
   "metadata": {},
   "source": [
    "# Reranking with fastembed\n",
    "\n",
    "\n",
    "https://qdrant.tech/documentation/fastembed/fastembed-rerankers/"
   ]
  },
  {
   "cell_type": "code",
   "execution_count": 7,
   "id": "6ff9f2e5-dfb7-4573-9885-a6348302c1fc",
   "metadata": {},
   "outputs": [],
   "source": [
    "from fastembed import TextEmbedding\n",
    "from fastembed.rerank.cross_encoder import TextCrossEncoder"
   ]
  },
  {
   "cell_type": "code",
   "execution_count": 9,
   "id": "a70bbc02-3dc8-4711-baa4-4d701a24602a",
   "metadata": {},
   "outputs": [
    {
     "data": {
      "text/plain": [
       "['Xenova/ms-marco-MiniLM-L-6-v2',\n",
       " 'Xenova/ms-marco-MiniLM-L-12-v2',\n",
       " 'BAAI/bge-reranker-base',\n",
       " 'jinaai/jina-reranker-v1-tiny-en',\n",
       " 'jinaai/jina-reranker-v1-turbo-en',\n",
       " 'jinaai/jina-reranker-v2-base-multilingual']"
      ]
     },
     "execution_count": 9,
     "metadata": {},
     "output_type": "execute_result"
    }
   ],
   "source": [
    "[model[\"model\"] for model in TextCrossEncoder.list_supported_models()]"
   ]
  },
  {
   "cell_type": "code",
   "execution_count": 12,
   "id": "52ea9945-07df-46b9-8e91-14ad1266012d",
   "metadata": {},
   "outputs": [],
   "source": [
    "dense_embedding_model = TextEmbedding(\"sentence-transformers/all-MiniLM-L6-v2\")\n",
    "reranker = TextCrossEncoder(model_name=\"jinaai/jina-reranker-v2-base-multilingual\")"
   ]
  },
  {
   "cell_type": "markdown",
   "id": "7cddc37d-654e-49f0-8351-6579947499ba",
   "metadata": {},
   "source": [
    "## Embed and index data for the first-stage retrieval"
   ]
  },
  {
   "cell_type": "code",
   "execution_count": 11,
   "id": "4dc0e96d-7fbc-4764-bd76-b6c00ae4b280",
   "metadata": {},
   "outputs": [],
   "source": [
    "descriptions = [\n",
    "    \"In 1431, Jeanne d'Arc is placed on trial on charges of heresy. The ecclesiastical jurists attempt to force Jeanne to recant her claims of holy visions.\",\n",
    "    \"A film projectionist longs to be a detective, and puts his meagre skills to work when he is framed by a rival for stealing his girlfriend's father's pocketwatch.\",\n",
    "    \"A group of high-end professional thieves start to feel the heat from the LAPD when they unknowingly leave a clue at their latest heist.\",\n",
    "    \"A petty thief with an utter resemblance to a samurai warlord is hired as the lord's double. When the warlord later dies the thief is forced to take up arms in his place.\",\n",
    "    \"A young boy named Kubo must locate a magical suit of armour worn by his late father in order to defeat a vengeful spirit from the past.\",\n",
    "    \"A biopic detailing the 2 decades that Punjabi Sikh revolutionary Udham Singh spent planning the assassination of the man responsible for the Jallianwala Bagh massacre.\",\n",
    "    \"When a machine that allows therapists to enter their patients' dreams is stolen, all hell breaks loose. Only a young female therapist, Paprika, can stop it.\",\n",
    "    \"An ordinary word processor has the worst night of his life after he agrees to visit a girl in Soho whom he met that evening at a coffee shop.\",\n",
    "    \"A story that revolves around drug abuse in the affluent north Indian State of Punjab and how the youth there have succumbed to it en-masse resulting in a socio-economic decline.\",\n",
    "    \"A world-weary political journalist picks up the story of a woman's search for her son, who was taken away from her decades ago after she became pregnant and was forced to live in a convent.\",\n",
    "    \"Concurrent theatrical ending of the TV series Neon Genesis Evangelion (1995).\",\n",
    "    \"During World War II, a rebellious U.S. Army Major is assigned a dozen convicted murderers to train and lead them into a mass assassination mission of German officers.\",\n",
    "    \"The toys are mistakenly delivered to a day-care center instead of the attic right before Andy leaves for college, and it's up to Woody to convince the other toys that they weren't abandoned and to return home.\",\n",
    "    \"A soldier fighting aliens gets to relive the same day over and over again, the day restarting every time he dies.\",\n",
    "    \"After two male musicians witness a mob hit, they flee the state in an all-female band disguised as women, but further complications set in.\",\n",
    "    \"Exiled into the dangerous forest by her wicked stepmother, a princess is rescued by seven dwarf miners who make her part of their household.\",\n",
    "    \"A renegade reporter trailing a young runaway heiress for a big story joins her on a bus heading from Florida to New York, and they end up stuck with each other when the bus leaves them behind at one of the stops.\",\n",
    "    \"Story of 40-man Turkish task force who must defend a relay station.\",\n",
    "    \"Spinal Tap, one of England's loudest bands, is chronicled by film director Marty DiBergi on what proves to be a fateful tour.\",\n",
    "    \"Oskar, an overlooked and bullied boy, finds love and revenge through Eli, a beautiful but peculiar girl.\",\n",
    "]"
   ]
  },
  {
   "cell_type": "code",
   "execution_count": 16,
   "id": "e51e7cce-45ed-4dd5-a3b7-38375e4446d3",
   "metadata": {},
   "outputs": [
    {
     "data": {
      "text/plain": [
       "384"
      ]
     },
     "execution_count": 16,
     "metadata": {},
     "output_type": "execute_result"
    }
   ],
   "source": [
    "descriptions_embeddings = list(dense_embedding_model.embed(descriptions))\n",
    "len(descriptions_embeddings[0])"
   ]
  },
  {
   "cell_type": "code",
   "execution_count": 14,
   "id": "87432e1a-5ef5-4b46-9813-1e0f80101151",
   "metadata": {},
   "outputs": [],
   "source": [
    "from qdrant_client import QdrantClient, models\n",
    "\n",
    "qdrant_client = QdrantClient(\":memory:\")  # Qdrant is running from RAM."
   ]
  },
  {
   "cell_type": "code",
   "execution_count": 18,
   "id": "eed0f80e-5c0a-48c3-85c5-f18b8fde3ecb",
   "metadata": {},
   "outputs": [
    {
     "data": {
      "text/plain": [
       "True"
      ]
     },
     "execution_count": 18,
     "metadata": {},
     "output_type": "execute_result"
    }
   ],
   "source": [
    "qdrant_client.create_collection(\n",
    "    collection_name=\"movies\",\n",
    "    vectors_config={\n",
    "        \"embedding\": models.VectorParams(\n",
    "            size=384, distance=models.Distance.COSINE  # Size of all-MiniLM-L6-v2\n",
    "        )\n",
    "    },\n",
    ")"
   ]
  },
  {
   "cell_type": "code",
   "execution_count": 19,
   "id": "92d62469-6c7a-4bc7-a94e-82a7359ed0d9",
   "metadata": {},
   "outputs": [],
   "source": [
    "qdrant_client.upload_points(\n",
    "    collection_name=\"movies\",\n",
    "    points=[\n",
    "        models.PointStruct(\n",
    "            id=idx, payload={\"description\": description}, vector={\"embedding\": vector}\n",
    "        )\n",
    "        for idx, (description, vector) in enumerate(\n",
    "            zip(descriptions, descriptions_embeddings)\n",
    "        )\n",
    "    ],\n",
    ")"
   ]
  },
  {
   "cell_type": "markdown",
   "id": "565aab93-0ed9-4c79-83ee-33a860cf40db",
   "metadata": {},
   "source": [
    "## First-stage retrieval"
   ]
  },
  {
   "cell_type": "code",
   "execution_count": 20,
   "id": "bd74c65b-c449-4233-b42e-8972feb80e85",
   "metadata": {},
   "outputs": [],
   "source": [
    "query = \"A story about a strong historically significant female figure.\"\n",
    "query_embedded = list(dense_embedding_model.query_embed(query))[0]\n",
    "\n",
    "initial_retrieval = qdrant_client.query_points(\n",
    "    collection_name=\"movies\",\n",
    "    using=\"embedding\",\n",
    "    query=query_embedded,\n",
    "    with_payload=True,\n",
    "    limit=10,\n",
    ")"
   ]
  },
  {
   "cell_type": "code",
   "execution_count": 21,
   "id": "cbcb8c00-f155-4772-887f-078f649cde76",
   "metadata": {},
   "outputs": [
    {
     "name": "stdout",
     "output_type": "stream",
     "text": [
      "Result number 1 is \"A world-weary political journalist picks up the story of a woman's search for her son, who was taken away from her decades ago after she became pregnant and was forced to live in a convent.\"\n",
      "Result number 2 is \"Exiled into the dangerous forest by her wicked stepmother, a princess is rescued by seven dwarf miners who make her part of their household.\"\n",
      "Result number 3 is \"Oskar, an overlooked and bullied boy, finds love and revenge through Eli, a beautiful but peculiar girl.\"\n",
      "Result number 4 is \"A renegade reporter trailing a young runaway heiress for a big story joins her on a bus heading from Florida to New York, and they end up stuck with each other when the bus leaves them behind at one of the stops.\"\n",
      "Result number 5 is \"A story that revolves around drug abuse in the affluent north Indian State of Punjab and how the youth there have succumbed to it en-masse resulting in a socio-economic decline.\"\n",
      "Result number 6 is \"After two male musicians witness a mob hit, they flee the state in an all-female band disguised as women, but further complications set in.\"\n",
      "Result number 7 is \"When a machine that allows therapists to enter their patients' dreams is stolen, all hell breaks loose. Only a young female therapist, Paprika, can stop it.\"\n",
      "Result number 8 is \"An ordinary word processor has the worst night of his life after he agrees to visit a girl in Soho whom he met that evening at a coffee shop.\"\n",
      "Result number 9 is \"A biopic detailing the 2 decades that Punjabi Sikh revolutionary Udham Singh spent planning the assassination of the man responsible for the Jallianwala Bagh massacre.\"\n",
      "Result number 10 is \"In 1431, Jeanne d'Arc is placed on trial on charges of heresy. The ecclesiastical jurists attempt to force Jeanne to recant her claims of holy visions.\"\n"
     ]
    }
   ],
   "source": [
    "description_hits = []\n",
    "for i, hit in enumerate(initial_retrieval.points):\n",
    "    print(f'Result number {i+1} is \"{hit.payload['description']}\"')\n",
    "    description_hits.append(hit.payload[\"description\"])"
   ]
  },
  {
   "cell_type": "code",
   "execution_count": 22,
   "id": "e169d551-842f-4cfe-b7e8-56fc88d63b02",
   "metadata": {},
   "outputs": [
    {
     "data": {
      "text/plain": [
       "[-1.7871119976043701,\n",
       " -1.1165943145751953,\n",
       " -1.2816978693008423,\n",
       " -1.8776179552078247,\n",
       " -2.721012830734253,\n",
       " -2.2455098628997803,\n",
       " -2.380913257598877,\n",
       " -2.8468973636627197,\n",
       " -2.8494515419006348,\n",
       " -0.6084094047546387]"
      ]
     },
     "execution_count": 22,
     "metadata": {},
     "output_type": "execute_result"
    }
   ],
   "source": [
    "new_scores = list(reranker.rerank(query, description_hits))\n",
    "new_scores"
   ]
  },
  {
   "cell_type": "code",
   "execution_count": 24,
   "id": "e5cc6ebf-1685-42ae-b057-46b4c884ed06",
   "metadata": {},
   "outputs": [
    {
     "name": "stdout",
     "output_type": "stream",
     "text": [
      "Reranked result number 1 is \"In 1431, Jeanne d'Arc is placed on trial on charges of heresy. The ecclesiastical jurists attempt to force Jeanne to recant her claims of holy visions.\"\n",
      "Reranked result number 2 is \"Exiled into the dangerous forest by her wicked stepmother, a princess is rescued by seven dwarf miners who make her part of their household.\"\n",
      "Reranked result number 3 is \"Oskar, an overlooked and bullied boy, finds love and revenge through Eli, a beautiful but peculiar girl.\"\n",
      "Reranked result number 4 is \"A world-weary political journalist picks up the story of a woman's search for her son, who was taken away from her decades ago after she became pregnant and was forced to live in a convent.\"\n",
      "Reranked result number 5 is \"A renegade reporter trailing a young runaway heiress for a big story joins her on a bus heading from Florida to New York, and they end up stuck with each other when the bus leaves them behind at one of the stops.\"\n",
      "Reranked result number 6 is \"After two male musicians witness a mob hit, they flee the state in an all-female band disguised as women, but further complications set in.\"\n",
      "Reranked result number 7 is \"When a machine that allows therapists to enter their patients' dreams is stolen, all hell breaks loose. Only a young female therapist, Paprika, can stop it.\"\n",
      "Reranked result number 8 is \"A story that revolves around drug abuse in the affluent north Indian State of Punjab and how the youth there have succumbed to it en-masse resulting in a socio-economic decline.\"\n",
      "Reranked result number 9 is \"An ordinary word processor has the worst night of his life after he agrees to visit a girl in Soho whom he met that evening at a coffee shop.\"\n",
      "Reranked result number 10 is \"A biopic detailing the 2 decades that Punjabi Sikh revolutionary Udham Singh spent planning the assassination of the man responsible for the Jallianwala Bagh massacre.\"\n"
     ]
    }
   ],
   "source": [
    "ranking = [(i, score) for i, score in enumerate(new_scores)]\n",
    "ranking.sort(key=lambda x: x[1], reverse=True)\n",
    "\n",
    "for i, rank in enumerate(ranking):\n",
    "    print(f'Reranked result number {i+1} is \"{description_hits[rank[0]]}\"')"
   ]
  }
 ],
 "metadata": {
  "kernelspec": {
   "display_name": "Python 3 (ipykernel)",
   "language": "python",
   "name": "python3"
  },
  "language_info": {
   "codemirror_mode": {
    "name": "ipython",
    "version": 3
   },
   "file_extension": ".py",
   "mimetype": "text/x-python",
   "name": "python",
   "nbconvert_exporter": "python",
   "pygments_lexer": "ipython3",
   "version": "3.12.9"
  }
 },
 "nbformat": 4,
 "nbformat_minor": 5
}
