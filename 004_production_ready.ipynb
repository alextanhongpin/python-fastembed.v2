{
 "cells": [
  {
   "cell_type": "code",
   "execution_count": 1,
   "id": "cb3fb870-b899-45d8-b228-cdef5e2fcd5e",
   "metadata": {},
   "outputs": [],
   "source": [
    "%load_ext jupyter_ai"
   ]
  },
  {
   "cell_type": "code",
   "execution_count": 2,
   "id": "5269b196-593a-4819-abf2-86adc1f5e36f",
   "metadata": {},
   "outputs": [
    {
     "data": {
      "text/markdown": [
       "**Retrieval Augmented Generation (RAG) Application Planning**\n",
       "===========================================================\n",
       "\n",
       "### 1. Suggested Metadata for Documents\n",
       "\n",
       "To aid in fast retrieval, we suggest embedding the following metadata fields:\n",
       "\n",
       "*   **Document ID**: A unique identifier for each document.\n",
       "*   **Category**: The category or topic that the document belongs to.\n",
       "*   **Textual Features**: Relevant textual features such as word embeddings (e.g., Word2Vec, GloVe) and document frequency.\n",
       "*   **Metadata Tags**: Additional metadata tags such as author, date of creation, and keywords.\n",
       "\n",
       "### 2. Explanation of Metadata Fields\n",
       "\n",
       "*   **Document ID**: A unique identifier for each document, which can be used to quickly identify the document in storage or when querying.\n",
       "*   **Category**: The category or topic that the document belongs to. This information is useful for fast retrieval based on topic similarity.\n",
       "*   **Textual Features**: Relevant textual features such as word embeddings (e.g., Word2Vec, GloVe) and document frequency. These features provide semantic meaning to the text content of the document.\n",
       "*   **Metadata Tags**: Additional metadata tags such as author, date of creation, and keywords. These tags provide additional context about the document.\n",
       "\n",
       "### 3. Versioning Changes for Metadata when Documents Change\n",
       "\n",
       "To version changes for metadata when documents change:\n",
       "\n",
       "*   Create a separate field to track the version number of each document.\n",
       "*   Increment the version number each time the metadata changes.\n",
       "*   Store the previous version number along with the updated metadata.\n",
       "\n",
       "**Example:**\n",
       "\n",
       "| Document ID | Version | Category | Textual Features | Metadata Tags |\n",
       "| --- | --- | --- | --- | --- |\n",
       "| doc-1 | 1.0 | Tech | [word embeddings] | author: John, date: 2022-01-01 |\n",
       "| doc-1 | 2.0 | Tech | [updated word embeddings] | updated tags: keywords |\n",
       "\n",
       "### 4. Supporting Different Embedding Models\n",
       "\n",
       "To support different embedding models:\n",
       "\n",
       "*   Use a modular architecture that allows the addition of new embedding models.\n",
       "*   Implement a standard interface for embedding models to ensure compatibility.\n",
       "\n",
       "**Example:**\n",
       "\n",
       "*   Add new embedding model using a RESTful API or a message queue.\n",
       "*   Update the metadata field to use the new embedding model.\n",
       "*   Restart the application or re-run the embedding process.\n",
       "\n",
       "### 5. Edge Cases\n",
       "\n",
       "Some additional edge cases to consider:\n",
       "\n",
       "*   **Handling duplicate documents**: Implement measures to handle duplicate documents, such as using a unique identifier for each document or storing the most recent version of the metadata.\n",
       "*   **Dealing with sparse data**: Handle sparse data by using techniques such as interpolation or imputation to estimate missing values.\n",
       "*   **Optimizing storage and query performance**: Optimize storage and query performance by indexing frequently used metadata fields.\n",
       "\n",
       "**Example Edge Cases:**\n",
       "\n",
       "*   **Duplicate Documents:** Duplicate documents can occur when multiple users submit the same document. To handle this, store a unique identifier for each document and use it to identify duplicates.\n",
       "*   **Sparse Data:** Sparse data occurs when some documents have missing values in their metadata fields. To handle this, use interpolation or imputation techniques to estimate missing values.\n",
       "\n",
       "Other edge cases:\n",
       "\n",
       "*   Handling non-textual metadata\n",
       "*   Dealing with large volumes of metadata updates\n",
       "*   Optimizing storage and query performance for large datasets"
      ],
      "text/plain": [
       "<IPython.core.display.Markdown object>"
      ]
     },
     "execution_count": 2,
     "metadata": {
      "text/markdown": {
       "jupyter_ai": {
        "model_id": "llama3.2",
        "provider_id": "ollama"
       }
      }
     },
     "output_type": "execute_result"
    }
   ],
   "source": [
    "%%ai ollama:llama3.2\n",
    "\n",
    "\"\"\"\n",
    "you are an experienced AI engineer with 10 years of experience.\n",
    "you are tasked to build a retrieval augmented generation, RAG application.\n",
    "a vector store is an essential part for querying large amount of documents.\n",
    "\n",
    "plan before you act\n",
    "- suggest the metadata for the documents to embed\n",
    "- the metadata should aid in fast retrieval\n",
    "- explain each metadata fields\n",
    "- consider how to version the changes for the metadata when the document changes\n",
    "- consider how to support different embedding models\n",
    "- take into consideration of other edge cases\n",
    "- list down other edge cases too\n",
    "\"\"\""
   ]
  }
 ],
 "metadata": {
  "kernelspec": {
   "display_name": "Python 3 (ipykernel)",
   "language": "python",
   "name": "python3"
  },
  "language_info": {
   "codemirror_mode": {
    "name": "ipython",
    "version": 3
   },
   "file_extension": ".py",
   "mimetype": "text/x-python",
   "name": "python",
   "nbconvert_exporter": "python",
   "pygments_lexer": "ipython3",
   "version": "3.12.9"
  }
 },
 "nbformat": 4,
 "nbformat_minor": 5
}
