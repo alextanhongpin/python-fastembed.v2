{
 "cells": [
  {
   "cell_type": "markdown",
   "id": "b468f1f1-d1f2-4730-96a8-3d58fa0b11f9",
   "metadata": {},
   "source": [
    "# How to generate Sparse Vectors with SPLADE\n",
    "\n",
    "https://qdrant.tech/documentation/fastembed/fastembed-splade/"
   ]
  },
  {
   "cell_type": "code",
   "execution_count": 1,
   "id": "d9dcd951-c5f9-494a-8747-94a003752133",
   "metadata": {},
   "outputs": [],
   "source": [
    "from fastembed import SparseEmbedding, SparseTextEmbedding"
   ]
  },
  {
   "cell_type": "code",
   "execution_count": 4,
   "id": "e43649e7-bd27-4e78-943c-1714f3deef09",
   "metadata": {},
   "outputs": [
    {
     "data": {
      "text/plain": [
       "{'model': 'prithivida/Splade_PP_en_v1',\n",
       " 'sources': {'hf': 'Qdrant/SPLADE_PP_en_v1', 'url': None},\n",
       " 'model_file': 'model.onnx',\n",
       " 'description': 'Independent Implementation of SPLADE++ Model for English.',\n",
       " 'license': 'apache-2.0',\n",
       " 'size_in_GB': 0.532,\n",
       " 'additional_files': [],\n",
       " 'requires_idf': None,\n",
       " 'vocab_size': 30522}"
      ]
     },
     "execution_count": 4,
     "metadata": {},
     "output_type": "execute_result"
    }
   ],
   "source": [
    "models = SparseTextEmbedding.list_supported_models()\n",
    "models[0]"
   ]
  },
  {
   "cell_type": "code",
   "execution_count": 5,
   "id": "0c12348d-32e2-400a-b7a6-280a78a1f8a5",
   "metadata": {},
   "outputs": [],
   "source": [
    "model_name = \"prithivida/Splade_PP_en_v1\"\n",
    "model = SparseTextEmbedding(model_name=model_name)"
   ]
  },
  {
   "cell_type": "markdown",
   "id": "821cd5ed-efd0-43be-a2c7-451685e793c4",
   "metadata": {},
   "source": [
    "## Embed data"
   ]
  },
  {
   "cell_type": "code",
   "execution_count": 7,
   "id": "11085385-493f-4bf4-81cc-367eb5de70f0",
   "metadata": {},
   "outputs": [],
   "source": [
    "documents: list[str] = [\n",
    "    \"Chandrayaan-3 is India's third lunar mission\",\n",
    "    \"It aimed to land a rover on the Moon's surface - joining the US, China and Russia\",\n",
    "    \"The mission is a follow-up to Chandrayaan-2, which had partial success\",\n",
    "    \"Chandrayaan-3 will be launched by the Indian Space Research Organisation (ISRO)\",\n",
    "    \"The estimated cost of the mission is around $35 million\",\n",
    "    \"It will carry instruments to study the lunar surface and atmosphere\",\n",
    "    \"Chandrayaan-3 landed on the Moon's surface on 23rd August 2023\",\n",
    "    \"It consists of a lander named Vikram and a rover named Pragyan similar to Chandrayaan-2. Its propulsion module would act like an orbiter.\",\n",
    "    \"The propulsion module carries the lander and rover configuration until the spacecraft is in a 100-kilometre (62 mi) lunar orbit\",\n",
    "    \"The mission used GSLV Mk III rocket for its launch\",\n",
    "    \"Chandrayaan-3 was launched from the Satish Dhawan Space Centre in Sriharikota\",\n",
    "    \"Chandrayaan-3 was launched earlier in the year 2023\",\n",
    "]"
   ]
  },
  {
   "cell_type": "code",
   "execution_count": 16,
   "id": "c79d8193-8497-4f7f-81ad-c7cc2ddf5172",
   "metadata": {},
   "outputs": [],
   "source": [
    "sparse_embeddings_list: list[SparseEmbedding] = list(\n",
    "    model.embed(documents, batch_size=6)\n",
    ")"
   ]
  },
  {
   "cell_type": "markdown",
   "id": "8c62cb3a-241c-4e6b-ac3a-855e1feca2f2",
   "metadata": {},
   "source": [
    "## Retrieve Embedding"
   ]
  },
  {
   "cell_type": "code",
   "execution_count": 17,
   "id": "eb98649d-ea17-434a-b900-db0860b236a9",
   "metadata": {},
   "outputs": [
    {
     "data": {
      "text/plain": [
       "SparseEmbedding(values=array([0.05297276, 0.01963477, 0.3645905 , 1.38508415, 0.7177667 ,\n",
       "       0.12668137, 0.46230468, 0.44676718, 0.26896986, 1.01519763,\n",
       "       1.56553161, 0.29411644, 1.53102267, 0.59785521, 1.10018086,\n",
       "       0.02078829, 0.09955899, 0.44248503, 0.09748027, 1.53519893,\n",
       "       1.36765647, 0.15741006, 0.49882478, 0.38628468, 0.76612252,\n",
       "       1.2580502 , 0.39058524, 0.27236614, 0.45152271, 0.48261923,\n",
       "       0.26085106, 1.35912812, 0.70710599, 1.71639597]), indices=array([ 1010,  1011,  1016,  1017,  2001,  2018,  2034,  2093,  2117,\n",
       "        2319,  2353,  2509,  2634,  2686,  2796,  2817,  2922,  2959,\n",
       "        3003,  3148,  3260,  3390,  3462,  3523,  3822,  4231,  4316,\n",
       "        4774,  5590,  5871,  6416, 11926, 12076, 16469]))"
      ]
     },
     "execution_count": 17,
     "metadata": {},
     "output_type": "execute_result"
    }
   ],
   "source": [
    "index = 0\n",
    "sparse_embeddings_list[index]"
   ]
  },
  {
   "cell_type": "markdown",
   "id": "29f09d86-2335-4c14-96b7-c5b4f6750ce8",
   "metadata": {},
   "source": [
    "## Examine weights"
   ]
  },
  {
   "cell_type": "code",
   "execution_count": 18,
   "id": "b3278ae5-cafa-46ce-9f36-6e2d5898a9e2",
   "metadata": {},
   "outputs": [
    {
     "name": "stdout",
     "output_type": "stream",
     "text": [
      "Token at index 1010 has weight 0.05297275632619858\n",
      "Token at index 1011 has weight 0.01963476650416851\n",
      "Token at index 1016 has weight 0.36459049582481384\n",
      "Token at index 1017 has weight 1.3850841522216797\n",
      "Token at index 2001 has weight 0.7177667021751404\n"
     ]
    }
   ],
   "source": [
    "for i in range(5):\n",
    "    print(\n",
    "        f\"Token at index {sparse_embeddings_list[0].indices[i]} has weight {sparse_embeddings_list[0].values[i]}\"\n",
    "    )"
   ]
  },
  {
   "cell_type": "markdown",
   "id": "678ef042-e541-4fb3-83d0-b896a1a20428",
   "metadata": {},
   "source": [
    "## Analyze results"
   ]
  },
  {
   "cell_type": "code",
   "execution_count": 21,
   "id": "2182a7d6-02b9-4c35-ac1e-417ea2ed7509",
   "metadata": {},
   "outputs": [
    {
     "data": {
      "application/vnd.jupyter.widget-view+json": {
       "model_id": "48a33613205a4ef1be5af12098c25ee3",
       "version_major": 2,
       "version_minor": 0
      },
      "text/plain": [
       "tokenizer.json:   0%|          | 0.00/712k [00:00<?, ?B/s]"
      ]
     },
     "metadata": {},
     "output_type": "display_data"
    }
   ],
   "source": [
    "import json\n",
    "\n",
    "from tokenizers import Tokenizer\n",
    "\n",
    "tokenizer = Tokenizer.from_pretrained(\n",
    "    SparseTextEmbedding.list_supported_models()[0][\"sources\"][\"hf\"]\n",
    ")"
   ]
  },
  {
   "cell_type": "code",
   "execution_count": 23,
   "id": "fd62d76c-e38e-41fd-bd96-5df0001a70e5",
   "metadata": {},
   "outputs": [
    {
     "name": "stdout",
     "output_type": "stream",
     "text": [
      "{\n",
      "    \"chandra\": 1.7163959741592407,\n",
      "    \"third\": 1.565531611442566,\n",
      "    \"##ya\": 1.5351989269256592,\n",
      "    \"india\": 1.5310226678848267,\n",
      "    \"3\": 1.3850841522216797,\n",
      "    \"mission\": 1.3676564693450928,\n",
      "    \"lunar\": 1.3591281175613403,\n",
      "    \"moon\": 1.2580502033233643,\n",
      "    \"indian\": 1.1001808643341064,\n",
      "    \"##an\": 1.0151976346969604,\n",
      "    \"3rd\": 0.7661225199699402,\n",
      "    \"was\": 0.7177667021751404,\n",
      "    \"spacecraft\": 0.7071059942245483,\n",
      "    \"space\": 0.5978552103042603,\n",
      "    \"flight\": 0.4988247752189636,\n",
      "    \"satellite\": 0.4826192259788513,\n",
      "    \"first\": 0.4623046815395355,\n",
      "    \"expedition\": 0.45152270793914795,\n",
      "    \"three\": 0.4467671811580658,\n",
      "    \"fourth\": 0.4424850344657898,\n",
      "    \"vehicle\": 0.3905852437019348,\n",
      "    \"iii\": 0.3862846791744232,\n",
      "    \"2\": 0.36459049582481384,\n",
      "    \"##3\": 0.29411643743515015,\n",
      "    \"planet\": 0.27236613631248474,\n",
      "    \"second\": 0.268969863653183,\n",
      "    \"missions\": 0.26085105538368225,\n",
      "    \"launched\": 0.15741005539894104,\n",
      "    \"had\": 0.1266813725233078,\n",
      "    \"largest\": 0.0995589941740036,\n",
      "    \"leader\": 0.09748027473688126,\n",
      "    \",\": 0.05297275632619858,\n",
      "    \"study\": 0.02078828774392605,\n",
      "    \"-\": 0.01963476650416851\n",
      "}\n"
     ]
    }
   ],
   "source": [
    "def get_tokens_and_weights(sparse_embedding, tokenizer):\n",
    "    token_weight_dict = {}\n",
    "    for i in range(len(sparse_embedding.indices)):\n",
    "        token = tokenizer.decode([sparse_embedding.indices[i]])\n",
    "        weight = sparse_embedding.values[i]\n",
    "        token_weight_dict[token] = weight\n",
    "\n",
    "    # Sort the dictionary by weights.\n",
    "    token_weight_dict = dict(\n",
    "        sorted(token_weight_dict.items(), key=lambda item: item[1], reverse=True)\n",
    "    )\n",
    "    return token_weight_dict\n",
    "\n",
    "\n",
    "print(\n",
    "    json.dumps(\n",
    "        get_tokens_and_weights(sparse_embeddings_list[index], tokenizer), indent=4\n",
    "    )\n",
    ")"
   ]
  }
 ],
 "metadata": {
  "kernelspec": {
   "display_name": "Python 3 (ipykernel)",
   "language": "python",
   "name": "python3"
  },
  "language_info": {
   "codemirror_mode": {
    "name": "ipython",
    "version": 3
   },
   "file_extension": ".py",
   "mimetype": "text/x-python",
   "name": "python",
   "nbconvert_exporter": "python",
   "pygments_lexer": "ipython3",
   "version": "3.12.9"
  }
 },
 "nbformat": 4,
 "nbformat_minor": 5
}
