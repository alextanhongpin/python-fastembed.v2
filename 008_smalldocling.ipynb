{
 "cells": [
  {
   "cell_type": "markdown",
   "id": "74c097a3-5137-48ae-9926-e93b73b4d316",
   "metadata": {},
   "source": [
    "# OCR with SmallDocling\n",
    "\n",
    "https://huggingface.co/ds4sd/SmolDocling-256M-preview"
   ]
  },
  {
   "cell_type": "code",
   "execution_count": 2,
   "id": "b2b0c896-a94a-4b90-b33d-d3d95f520924",
   "metadata": {},
   "outputs": [
    {
     "data": {
      "application/vnd.jupyter.widget-view+json": {
       "model_id": "22d2878ec07e4f9abbf48e8e007a7809",
       "version_major": 2,
       "version_minor": 0
      },
      "text/plain": [
       "processor_config.json:   0%|          | 0.00/68.0 [00:00<?, ?B/s]"
      ]
     },
     "metadata": {},
     "output_type": "display_data"
    },
    {
     "data": {
      "application/vnd.jupyter.widget-view+json": {
       "model_id": "121293acd178467d8bccd4ab6322c9bf",
       "version_major": 2,
       "version_minor": 0
      },
      "text/plain": [
       "chat_template.json:   0%|          | 0.00/430 [00:00<?, ?B/s]"
      ]
     },
     "metadata": {},
     "output_type": "display_data"
    },
    {
     "data": {
      "application/vnd.jupyter.widget-view+json": {
       "model_id": "5de363ef7dd14903b39cd80a4d975a6a",
       "version_major": 2,
       "version_minor": 0
      },
      "text/plain": [
       "preprocessor_config.json:   0%|          | 0.00/486 [00:00<?, ?B/s]"
      ]
     },
     "metadata": {},
     "output_type": "display_data"
    },
    {
     "data": {
      "application/vnd.jupyter.widget-view+json": {
       "model_id": "13498c0cd7a945358d903847e6014d9f",
       "version_major": 2,
       "version_minor": 0
      },
      "text/plain": [
       "tokenizer_config.json:   0%|          | 0.00/27.4k [00:00<?, ?B/s]"
      ]
     },
     "metadata": {},
     "output_type": "display_data"
    },
    {
     "data": {
      "application/vnd.jupyter.widget-view+json": {
       "model_id": "dac6f9a0e1264d3b8a71e4fbd5a65784",
       "version_major": 2,
       "version_minor": 0
      },
      "text/plain": [
       "vocab.json:   0%|          | 0.00/801k [00:00<?, ?B/s]"
      ]
     },
     "metadata": {},
     "output_type": "display_data"
    },
    {
     "data": {
      "application/vnd.jupyter.widget-view+json": {
       "model_id": "38f5995d91044b36a46b315b35ef2b86",
       "version_major": 2,
       "version_minor": 0
      },
      "text/plain": [
       "merges.txt:   0%|          | 0.00/466k [00:00<?, ?B/s]"
      ]
     },
     "metadata": {},
     "output_type": "display_data"
    },
    {
     "data": {
      "application/vnd.jupyter.widget-view+json": {
       "model_id": "5a518da1d0f044be98ea39f3e4ecce53",
       "version_major": 2,
       "version_minor": 0
      },
      "text/plain": [
       "tokenizer.json:   0%|          | 0.00/3.55M [00:00<?, ?B/s]"
      ]
     },
     "metadata": {},
     "output_type": "display_data"
    },
    {
     "data": {
      "application/vnd.jupyter.widget-view+json": {
       "model_id": "e600f2842ede49c3b7f538867e46b13a",
       "version_major": 2,
       "version_minor": 0
      },
      "text/plain": [
       "added_tokens.json:   0%|          | 0.00/3.67k [00:00<?, ?B/s]"
      ]
     },
     "metadata": {},
     "output_type": "display_data"
    },
    {
     "data": {
      "application/vnd.jupyter.widget-view+json": {
       "model_id": "aa396e1c84be482d885cf110db448db7",
       "version_major": 2,
       "version_minor": 0
      },
      "text/plain": [
       "special_tokens_map.json:   0%|          | 0.00/1.07k [00:00<?, ?B/s]"
      ]
     },
     "metadata": {},
     "output_type": "display_data"
    },
    {
     "data": {
      "application/vnd.jupyter.widget-view+json": {
       "model_id": "e8c2a2a1f764433aa150e9ae672be40b",
       "version_major": 2,
       "version_minor": 0
      },
      "text/plain": [
       "config.json:   0%|          | 0.00/3.90k [00:00<?, ?B/s]"
      ]
     },
     "metadata": {},
     "output_type": "display_data"
    },
    {
     "data": {
      "application/vnd.jupyter.widget-view+json": {
       "model_id": "0ecdb7f7916b4fd5a8a8d4be2448f8eb",
       "version_major": 2,
       "version_minor": 0
      },
      "text/plain": [
       "model.safetensors:   0%|          | 0.00/513M [00:00<?, ?B/s]"
      ]
     },
     "metadata": {},
     "output_type": "display_data"
    },
    {
     "data": {
      "application/vnd.jupyter.widget-view+json": {
       "model_id": "06b141c030dd4492bea32a57f7627332",
       "version_major": 2,
       "version_minor": 0
      },
      "text/plain": [
       "generation_config.json:   0%|          | 0.00/141 [00:00<?, ?B/s]"
      ]
     },
     "metadata": {},
     "output_type": "display_data"
    },
    {
     "name": "stderr",
     "output_type": "stream",
     "text": [
      "Truncation was not explicitly activated but `max_length` is provided a specific value, please use `truncation=True` to explicitly truncate examples to max length. Defaulting to 'longest_first' truncation strategy. If you encode pairs of sequences (GLUE-style) with the tokenizer you can select this strategy more precisely by providing a specific strategy to `truncation`.\n"
     ]
    },
    {
     "name": "stdout",
     "output_type": "stream",
     "text": [
      "<doctag><picture><loc_40><loc_14><loc_110><loc_32><logo></picture>\n",
      "<section_header_level_1><loc_40><loc_61><loc_421><loc_94>US equity bull market remains intact despite fragile sentiment</section_header_level_1>\n",
      "<section_header_level_1><loc_40><loc_97><loc_176><loc_107>UBS House View - Daily US</section_header_level_1>\n",
      "<text><loc_40><loc_116><loc_285><loc_147>Ulrike Hoffmann-Burchardi, Head CIO Global Equities, UBS Financial Services Inc. (UBS FS) Solita Marcelli, GWM Chief Investment Officer Americas, UBS Financial Services Inc. (UBS FS) Mark Haeefe, Global Wealth Management Chief Investment Officer, UBS AG David Lefkowitz, CFA, CIO Head of US Equities, UBS Financial Services Inc. (UBS FS) Sundeep Gantori, CFA, CAIA, Equity Strategist, UBS AG Singapore Branch Daisy Teng, Strategist, UBS AG Singapore Branch</text>\n",
      "<section_header_level_1><loc_40><loc_170><loc_103><loc_176>From the studio:</section_header_level_1>\n",
      "<text><loc_40><loc_178><loc_300><loc_192>Video: CIO Mark Haeefele's on investing through heightened political uncertainty (3:40)</text>\n",
      "<text><loc_40><loc_194><loc_300><loc_208>Podcast: The Al sector playbook after NVIDIA's results, with Sundeep, Wayne, and Jon (11:10)</text>\n",
      "<section_header_level_1><loc_40><loc_215><loc_114><loc_221>Thought of the day</section_header_level_1>\n",
      "<text><loc_40><loc_223><loc_300><loc_245>Investor sentiment took another hit on Thursday amid fresh tariff headlines and concerns over NVIDIA's near-term growth outlook, with the S&P 500 falling 1.6%, erasing all of its gains for the year. The Nasdaq was down 2.8%.</text>\n",
      "<text><loc_40><loc_255><loc_300><loc_293>US President Donald Trump said his proposed 25% tariffs on Mexican and Canadian goods will take effect on 4 March, alongside an extra 10% duty on Chinese imports on top of the 10% tariffs that went into effect early February. He added that fentanyl was still coming into the US from these countries \"at very high and unacceptable levels.\"</text>\n",
      "<text><loc_40><loc_301><loc_300><loc_338>Investors have had to contend with fast-moving headlines over the past few weeks and months-the Federal Reserve's signal of a slower pace of monetary easing, sticky inflation readings, the emergence of low-cost AI models like DeepSeek, weaker consumer confidence, and still-elevated geopolitical uncertainty in the Middle East and over the war in Ukraine.</text>\n",
      "<text><loc_40><loc_347><loc_300><loc_400>Indeed, data points are showing that investor sentiment is poor. Earlier this week, the American Association of Individual Investors (AAI) reported that only 19% of respondents to their weekly survey are expecting stocks to be higher over the next six months. This is lower than 98% of all observations since the survey started in 1987. More technical measures of investor sentiment, such as the put-call ratio, also suggest high levels of investor fear.</text>\n",
      "<text><loc_40><loc_409><loc_300><loc_431>But while we have cautioned that volatility is likely to be higher this year due to policy uncertainty and trade frictions, we reiterate our view that the bull market is intact, and we expect US equities to end the year higher.</text>\n",
      "<text><loc_40><loc_439><loc_300><loc_453>Very low sentiment readings tend to be a contrarian indicator. Perhaps somewhat counterintuitively, stocks typically perform well after poor</text>\n",
      "<text><loc_40><loc_464><loc_444><loc_479>This report has been prepared by UBS Financial Services Inc. (UBS FS), UBS AG, UBS AG Singapore Branch. Please see important disclaimers and disclosures at the end of the document.</text>\n",
      "<text><loc_310><loc_14><loc_400><loc_34>28 February 2025, 11:29AM UTC Chief Investment Office GWM Investment Research</text>\n",
      "<section_header_level_1><loc_310><loc_170><loc_423><loc_176>What to watch: 3 March 2025</section_header_level_1>\n",
      "<unordered_list><list_item><loc_310><loc_178><loc_424><loc_184>· US ISM manufacturing survey</list_item>\n",
      "<list_item><loc_310><loc_189><loc_450><loc_203>· Eurozone flash estimate of consumer price inflation for February</list_item>\n",
      "</unordered_list>\n",
      "</doctag><end_of_utterance>\n",
      "<!-- image -->\n",
      "\n",
      "## US equity bull market remains intact despite fragile sentiment\n",
      "\n",
      "## UBS House View - Daily US\n",
      "\n",
      "Ulrike Hoffmann-Burchardi, Head CIO Global Equities, UBS Financial Services Inc. (UBS FS) Solita Marcelli, GWM Chief Investment Officer Americas, UBS Financial Services Inc. (UBS FS) Mark Haeefe, Global Wealth Management Chief Investment Officer, UBS AG David Lefkowitz, CFA, CIO Head of US Equities, UBS Financial Services Inc. (UBS FS) Sundeep Gantori, CFA, CAIA, Equity Strategist, UBS AG Singapore Branch Daisy Teng, Strategist, UBS AG Singapore Branch\n",
      "\n",
      "## From the studio:\n",
      "\n",
      "Video: CIO Mark Haeefele's on investing through heightened political uncertainty (3:40)\n",
      "\n",
      "Podcast: The Al sector playbook after NVIDIA's results, with Sundeep, Wayne, and Jon (11:10)\n",
      "\n",
      "## Thought of the day\n",
      "\n",
      "Investor sentiment took another hit on Thursday amid fresh tariff headlines and concerns over NVIDIA's near-term growth outlook, with the S&amp;P 500 falling 1.6%, erasing all of its gains for the year. The Nasdaq was down 2.8%.\n",
      "\n",
      "US President Donald Trump said his proposed 25% tariffs on Mexican and Canadian goods will take effect on 4 March, alongside an extra 10% duty on Chinese imports on top of the 10% tariffs that went into effect early February. He added that fentanyl was still coming into the US from these countries \"at very high and unacceptable levels.\"\n",
      "\n",
      "Investors have had to contend with fast-moving headlines over the past few weeks and months-the Federal Reserve's signal of a slower pace of monetary easing, sticky inflation readings, the emergence of low-cost AI models like DeepSeek, weaker consumer confidence, and still-elevated geopolitical uncertainty in the Middle East and over the war in Ukraine.\n",
      "\n",
      "Indeed, data points are showing that investor sentiment is poor. Earlier this week, the American Association of Individual Investors (AAI) reported that only 19% of respondents to their weekly survey are expecting stocks to be higher over the next six months. This is lower than 98% of all observations since the survey started in 1987. More technical measures of investor sentiment, such as the put-call ratio, also suggest high levels of investor fear.\n",
      "\n",
      "But while we have cautioned that volatility is likely to be higher this year due to policy uncertainty and trade frictions, we reiterate our view that the bull market is intact, and we expect US equities to end the year higher.\n",
      "\n",
      "Very low sentiment readings tend to be a contrarian indicator. Perhaps somewhat counterintuitively, stocks typically perform well after poor\n",
      "\n",
      "This report has been prepared by UBS Financial Services Inc. (UBS FS), UBS AG, UBS AG Singapore Branch. Please see important disclaimers and disclosures at the end of the document.\n",
      "\n",
      "28 February 2025, 11:29AM UTC Chief Investment Office GWM Investment Research\n",
      "\n",
      "## What to watch: 3 March 2025\n",
      "\n",
      "- · US ISM manufacturing survey\n",
      "- · Eurozone flash estimate of consumer price inflation for February\n"
     ]
    }
   ],
   "source": [
    "# Prerequisites:\n",
    "# pip install torch\n",
    "# pip install docling_core\n",
    "# pip install transformers\n",
    "\n",
    "from pathlib import Path\n",
    "\n",
    "import torch\n",
    "from docling_core.types.doc import DoclingDocument\n",
    "from docling_core.types.doc.document import DocTagsDocument\n",
    "from transformers import AutoModelForVision2Seq, AutoProcessor\n",
    "from transformers.image_utils import load_image\n",
    "\n",
    "DEVICE = \"cuda\" if torch.cuda.is_available() else \"cpu\"\n",
    "\n",
    "# Load images\n",
    "image = load_image(\n",
    "    \"images/us_stock_market_news.png\"\n",
    "    # \"https://upload.wikimedia.org/wikipedia/commons/7/76/GazettedeFrance.jpg\"\n",
    ")\n",
    "\n",
    "# Initialize processor and model\n",
    "processor = AutoProcessor.from_pretrained(\"ds4sd/SmolDocling-256M-preview\")\n",
    "model = AutoModelForVision2Seq.from_pretrained(\n",
    "    \"ds4sd/SmolDocling-256M-preview\",\n",
    "    torch_dtype=torch.bfloat16,\n",
    "    _attn_implementation=\"flash_attention_2\" if DEVICE == \"cuda\" else \"eager\",\n",
    ").to(DEVICE)\n",
    "\n",
    "# Create input messages\n",
    "messages = [\n",
    "    {\n",
    "        \"role\": \"user\",\n",
    "        \"content\": [\n",
    "            {\"type\": \"image\"},\n",
    "            {\"type\": \"text\", \"text\": \"Convert this page to docling.\"},\n",
    "        ],\n",
    "    },\n",
    "]\n",
    "\n",
    "# Prepare inputs\n",
    "prompt = processor.apply_chat_template(messages, add_generation_prompt=True)\n",
    "inputs = processor(text=prompt, images=[image], return_tensors=\"pt\")\n",
    "inputs = inputs.to(DEVICE)\n",
    "\n",
    "# Generate outputs\n",
    "generated_ids = model.generate(**inputs, max_new_tokens=8192)\n",
    "prompt_length = inputs.input_ids.shape[1]\n",
    "trimmed_generated_ids = generated_ids[:, prompt_length:]\n",
    "doctags = processor.batch_decode(\n",
    "    trimmed_generated_ids,\n",
    "    skip_special_tokens=False,\n",
    ")[0].lstrip()\n",
    "\n",
    "# Populate document\n",
    "doctags_doc = DocTagsDocument.from_doctags_and_image_pairs([doctags], [image])\n",
    "print(doctags)\n",
    "# create a docling document\n",
    "doc = DoclingDocument(name=\"Document\")\n",
    "doc.load_from_doctags(doctags_doc)\n",
    "\n",
    "# export as any format\n",
    "# HTML\n",
    "# Path(\"Out/\").mkdir(parents=True, exist_ok=True)\n",
    "# output_path_html = Path(\"Out/\") / \"example.html\"\n",
    "# doc.save_as_html(output_path_html)\n",
    "# MD\n",
    "print(doc.export_to_markdown())"
   ]
  }
 ],
 "metadata": {
  "kernelspec": {
   "display_name": "Python 3 (ipykernel)",
   "language": "python",
   "name": "python3"
  },
  "language_info": {
   "codemirror_mode": {
    "name": "ipython",
    "version": 3
   },
   "file_extension": ".py",
   "mimetype": "text/x-python",
   "name": "python",
   "nbconvert_exporter": "python",
   "pygments_lexer": "ipython3",
   "version": "3.12.9"
  }
 },
 "nbformat": 4,
 "nbformat_minor": 5
}
