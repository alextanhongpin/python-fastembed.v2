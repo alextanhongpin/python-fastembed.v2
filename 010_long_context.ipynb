{
 "cells": [
  {
   "cell_type": "code",
   "execution_count": 1,
   "id": "9c8cda28-01ab-4fc9-ab73-d24d91bb2dd4",
   "metadata": {},
   "outputs": [],
   "source": [
    "%load_ext jupyter_ai\n",
    "%config AiMagics.default_language_model = \"ollama:llama3.2\""
   ]
  },
  {
   "cell_type": "code",
   "execution_count": 2,
   "id": "8082bf4b-45b8-4902-9443-84e096cfc804",
   "metadata": {},
   "outputs": [
    {
     "data": {
      "text/markdown": [
       "# My Feline Friend\n",
       "\n",
       "### Introduction\n",
       "My cat, Mr. Whiskers, has been a constant companion in my life for several years now. He is a sleek and agile feline with a shiny coat that comes in a variety of colors depending on the lighting conditions. Despite his refined appearance, Mr. Whiskers is a playful and mischievous creature who always keeps me entertained.\n",
       "\n",
       "### Physical Characteristics\n",
       "Mr. Whiskers is a medium-sized cat with a muscular build. He has a short, smooth coat that ranges in color from grey to black, with distinctive white markings on his paws and chest. His eyes are a bright green, and his whiskers (as his name suggests) are incredibly long and sensitive. Despite their impressive length, Mr. Whiskers' whiskers rarely get tangled or caught in anything.\n",
       "\n",
       "### Personality\n",
       "Mr. Whiskers is an extremely affectionate cat who loves to be around people. He has a special fondness for human attention, and will often seek out cuddles and pets from me whenever he's feeling particularly playful. However, despite his affectionate nature, Mr. Whiskers can also be quite demanding at times. If he doesn't get the attention or playtime he wants, he'll let me know about it in loud, insistent meows that can pierce through even the most concentrated work session.\n",
       "\n",
       "### Playtime\n",
       "One of my favorite things to do with Mr. Whiskers is engage him in a game of \"hide-and-seek.\" I'll hide treats or toys around the house, and encourage Mr. Whiskers to find them for himself. He's incredibly skilled at this game, using his powerful sense of smell to track down even the most elusive hiding spots.\n",
       "\n",
       "### Sleeping Habits\n",
       "Despite his energetic personality, Mr. Whiskers is also a heavy sleeper. He'll often spend hours curled up in a sunbeam or under my bed, snoozing peacefully as I go about my day. It's not uncommon for me to walk by him without even noticing he's there, only to have him suddenly wake up and pounce on my arm with a playful swat.\n",
       "\n",
       "### Grooming Habits\n",
       "Mr. Whiskers is extremely fastidious when it comes to his grooming habits. He spends hours each day licking and nuzzling his fur to keep it clean and well-coated. This means that he's always looking immaculate, even after a particularly messy play session or three.\n",
       "\n",
       "### Special Quirks\n",
       "One of Mr. Whiskers' most endearing quirks is his love of chasing invisible prey. He'll spend hours stalking imaginary mice or birds around the house, pouncing on them with lightning-fast reflexes only to realize they're not really there. It's hilarious to watch him in action, and always leaves me laughing.\n",
       "\n",
       "### Favorite Activities\n",
       "In addition to playtime, Mr. Whiskers also enjoys a good scratch behind the ears or under the chin. He'll sit for hours letting me rub his favorite spots, purring contentedly as I work out the knots and tangles in his fur. Another of his favorite activities is lounging on my lap while I watch TV or read a book.\n",
       "\n",
       "### Impact on Daily Life\n",
       "Despite his small size, Mr. Whiskers has a significant impact on my daily life. He's always there to brighten up my day with his antics and affectionate nature. Whether he's chasing invisible prey or simply curled up in a ball at my feet, Mr. Whiskers is a constant source of comfort and companionship.\n",
       "\n",
       "### Benefits of Owning a Cat\n",
       "One of the many benefits of owning a cat like Mr. Whiskers is the sense of calm and relaxation that comes with having him around. Studies have shown that simply petting a cat can lower your blood pressure, heart rate, and stress levels, making it easier to unwind after a long day.\n",
       "\n",
       "### Conclusion\n",
       "In conclusion, my life would not be complete without Mr. Whiskers by my side. He's more than just a pet – he's a beloved companion, a source of comfort and joy, and an endless source of entertainment. Whether he's chasing invisible prey or simply lounging in the sun, Mr. Whiskers is always up to something interesting.\n",
       "\n",
       "### Final Thoughts\n",
       "As I reflect on my time with Mr. Whiskers, I'm struck by his remarkable adaptability and resilience. Despite his many quirks and eccentricities, he remains a loyal and loving companion who brings endless joy and happiness into my life."
      ],
      "text/plain": [
       "<IPython.core.display.Markdown object>"
      ]
     },
     "execution_count": 2,
     "metadata": {
      "text/markdown": {
       "jupyter_ai": {
        "model_id": "llama3.2",
        "provider_id": "ollama"
       }
      }
     },
     "output_type": "execute_result"
    }
   ],
   "source": [
    "%%ai\n",
    "\n",
    "\"Generate a super long text of 1000 words about my cat\""
   ]
  },
  {
   "cell_type": "code",
   "execution_count": 6,
   "id": "84970343-695b-449e-9546-f7772163d76e",
   "metadata": {},
   "outputs": [],
   "source": [
    "document = \"\"\"My Feline Friend¶\n",
    "Introduction\n",
    "My cat, Mr. Whiskers, has been a constant companion in my life for several years now. He is a sleek and agile feline with a shiny coat that comes in a variety of colors depending on the lighting conditions. Despite his refined appearance, Mr. Whiskers is a playful and mischievous creature who always keeps me entertained.\n",
    "\n",
    "Physical Characteristics\n",
    "Mr. Whiskers is a medium-sized cat with a muscular build. He has a short, smooth coat that ranges in color from grey to black, with distinctive white markings on his paws and chest. His eyes are a bright green, and his whiskers (as his name suggests) are incredibly long and sensitive. Despite their impressive length, Mr. Whiskers' whiskers rarely get tangled or caught in anything.\n",
    "\n",
    "Personality\n",
    "Mr. Whiskers is an extremely affectionate cat who loves to be around people. He has a special fondness for human attention, and will often seek out cuddles and pets from me whenever he's feeling particularly playful. However, despite his affectionate nature, Mr. Whiskers can also be quite demanding at times. If he doesn't get the attention or playtime he wants, he'll let me know about it in loud, insistent meows that can pierce through even the most concentrated work session.\n",
    "\n",
    "Playtime\n",
    "One of my favorite things to do with Mr. Whiskers is engage him in a game of \"hide-and-seek.\" I'll hide treats or toys around the house, and encourage Mr. Whiskers to find them for himself. He's incredibly skilled at this game, using his powerful sense of smell to track down even the most elusive hiding spots.\n",
    "\n",
    "Sleeping Habits\n",
    "Despite his energetic personality, Mr. Whiskers is also a heavy sleeper. He'll often spend hours curled up in a sunbeam or under my bed, snoozing peacefully as I go about my day. It's not uncommon for me to walk by him without even noticing he's there, only to have him suddenly wake up and pounce on my arm with a playful swat.\n",
    "\n",
    "Grooming Habits\n",
    "Mr. Whiskers is extremely fastidious when it comes to his grooming habits. He spends hours each day licking and nuzzling his fur to keep it clean and well-coated. This means that he's always looking immaculate, even after a particularly messy play session or three.\n",
    "\n",
    "Special Quirks\n",
    "One of Mr. Whiskers' most endearing quirks is his love of chasing invisible prey. He'll spend hours stalking imaginary mice or birds around the house, pouncing on them with lightning-fast reflexes only to realize they're not really there. It's hilarious to watch him in action, and always leaves me laughing.\n",
    "\n",
    "Favorite Activities\n",
    "In addition to playtime, Mr. Whiskers also enjoys a good scratch behind the ears or under the chin. He'll sit for hours letting me rub his favorite spots, purring contentedly as I work out the knots and tangles in his fur. Another of his favorite activities is lounging on my lap while I watch TV or read a book.\n",
    "\n",
    "Impact on Daily Life\n",
    "Despite his small size, Mr. Whiskers has a significant impact on my daily life. He's always there to brighten up my day with his antics and affectionate nature. Whether he's chasing invisible prey or simply curled up in a ball at my feet, Mr. Whiskers is a constant source of comfort and companionship.\n",
    "\n",
    "Benefits of Owning a Cat\n",
    "One of the many benefits of owning a cat like Mr. Whiskers is the sense of calm and relaxation that comes with having him around. Studies have shown that simply petting a cat can lower your blood pressure, heart rate, and stress levels, making it easier to unwind after a long day.\n",
    "\n",
    "Conclusion\n",
    "In conclusion, my life would not be complete without Mr. Whiskers by my side. He's more than just a pet – he's a beloved companion, a source of comfort and joy, and an endless source of entertainment. Whether he's chasing invisible prey or simply lounging in the sun, Mr. Whiskers is always up to something interesting.\n",
    "\n",
    "Final Thoughts\n",
    "As I reflect on my time with Mr. Whiskers, I'm struck by his remarkable adaptability and resilience. Despite his many quirks and eccentricities, he remains a loyal and loving companion who brings endless joy and happiness into my life.\"\"\""
   ]
  },
  {
   "cell_type": "code",
   "execution_count": 7,
   "id": "87ebd50d-c956-43cd-a61d-3c3caf0a88b8",
   "metadata": {},
   "outputs": [
    {
     "data": {
      "text/plain": [
       "4084"
      ]
     },
     "execution_count": 7,
     "metadata": {},
     "output_type": "execute_result"
    }
   ],
   "source": [
    "len(document)"
   ]
  },
  {
   "cell_type": "code",
   "execution_count": 8,
   "id": "b2bc0956-06e6-4a8c-a3c0-6481f23f80f7",
   "metadata": {},
   "outputs": [],
   "source": [
    "# needle in a haystack\n",
    "niah = \"Mr. Whiskers has a dog friend named Mr. Husky\"\n",
    "documents = [niah + document, document + niah, document, niah]"
   ]
  },
  {
   "cell_type": "code",
   "execution_count": 9,
   "id": "6d3c8659-bacd-4cb0-a1b7-afc6e0da14c8",
   "metadata": {},
   "outputs": [],
   "source": [
    "from fastembed import TextEmbedding\n",
    "\n",
    "embedding_model = TextEmbedding()\n",
    "embeddings = list(embedding_model.embed(documents))"
   ]
  },
  {
   "cell_type": "code",
   "execution_count": 10,
   "id": "0a39ad17-f05a-4cfd-9a4f-b8f9f7a5ec19",
   "metadata": {},
   "outputs": [],
   "source": [
    "import numpy as np\n",
    "from qdrant_client.local.distances import cosine_similarity"
   ]
  },
  {
   "cell_type": "code",
   "execution_count": 11,
   "id": "5a28c49a-86ec-4439-a126-c16bebbf8dd6",
   "metadata": {},
   "outputs": [
    {
     "data": {
      "text/plain": [
       "array([[0.5864911 , 0.53275806, 0.53275806, 0.71727777]], dtype=float32)"
      ]
     },
     "execution_count": 11,
     "metadata": {},
     "output_type": "execute_result"
    }
   ],
   "source": [
    "queries = [\"Who is Mr. Husky?\"]\n",
    "\n",
    "query_embeddings = list(embedding_model.query_embed(queries))\n",
    "cosine_similarity(np.array(query_embeddings), np.array(embeddings))"
   ]
  },
  {
   "cell_type": "markdown",
   "id": "3a3e7807-5c64-4d87-b9ef-0a20e8381ff8",
   "metadata": {},
   "source": [
    "We can observe that the 2nd and 3rd document has the same similarity scores.\n",
    "This is because the document is too long is truncated before passing into the embedding model. "
   ]
  },
  {
   "cell_type": "markdown",
   "id": "f6222d7c-33b0-45c9-b99c-a7d6f9796b16",
   "metadata": {},
   "source": [
    "## Splitting text"
   ]
  },
  {
   "cell_type": "code",
   "execution_count": 55,
   "id": "ce66e36a-572b-48cf-b14c-205e2e2a508c",
   "metadata": {},
   "outputs": [
    {
     "name": "stdout",
     "output_type": "stream",
     "text": [
      "240 30 0.5020638 0.5304578\n",
      "360 353 0.44394454 0.5407039\n",
      "480 353 0.44394454 0.5407039\n",
      "540 353 0.44394454 0.5407039\n",
      "1080 763 0.4186567 0.51292914\n",
      "2160 1925 0.43664977 0.47356755\n"
     ]
    }
   ],
   "source": [
    "from langchain_text_splitters import RecursiveCharacterTextSplitter\n",
    "\n",
    "niah = \"Singapore is beautiful\"\n",
    "queries = [\"Tell me about Singapore\"]\n",
    "query_embeddings = list(embedding_model.embed(queries))\n",
    "\n",
    "# We can test different chunk size to see if the last content got \"cut-off\".\n",
    "for chunk_size in [240, 360, 480, 540, 1080, 2160, 4320, 8640]:\n",
    "    recursive_splitter = RecursiveCharacterTextSplitter(\n",
    "        separators=[\"\\n\\n\", \"\\n\", r\"(?<=[.?!])\\s+\"],\n",
    "        keep_separator=False,\n",
    "        is_separator_regex=True,\n",
    "        chunk_size=chunk_size,\n",
    "        chunk_overlap=36,\n",
    "    )\n",
    "    docs = recursive_splitter.create_documents([document])\n",
    "    text = docs[0].page_content\n",
    "    embedding = list(embedding_model.embed([text, text + niah, niah]))\n",
    "    base_score, suffix_score, niah_score = cosine_similarity(\n",
    "        np.array(query_embeddings), np.array(embedding)\n",
    "    )[0]\n",
    "    if base_score < suffix_score:\n",
    "        print(chunk_size, len(text), base_score, suffix_score)"
   ]
  },
  {
   "cell_type": "code",
   "execution_count": 40,
   "id": "efb98230-59fd-4e18-8032-560651503559",
   "metadata": {},
   "outputs": [
    {
     "name": "stdout",
     "output_type": "stream",
     "text": [
      "{'model': 'BAAI/bge-small-en-v1.5', 'dim': 384, 'description': 'Text embeddings, Unimodal (text), English, 512 input tokens truncation, Prefixes for queries/documents: not so necessary, 2023 year.', 'license': 'mit', 'size_in_GB': 0.067, 'sources': {'hf': 'qdrant/bge-small-en-v1.5-onnx-q'}, 'model_file': 'model_optimized.onnx'}\n"
     ]
    }
   ],
   "source": [
    "for model in TextEmbedding.list_supported_models():\n",
    "    if model[\"model\"] == embedding_model.model_name:\n",
    "        print(model)\n",
    "        break"
   ]
  }
 ],
 "metadata": {
  "kernelspec": {
   "display_name": "Python 3 (ipykernel)",
   "language": "python",
   "name": "python3"
  },
  "language_info": {
   "codemirror_mode": {
    "name": "ipython",
    "version": 3
   },
   "file_extension": ".py",
   "mimetype": "text/x-python",
   "name": "python",
   "nbconvert_exporter": "python",
   "pygments_lexer": "ipython3",
   "version": "3.12.9"
  }
 },
 "nbformat": 4,
 "nbformat_minor": 5
}
