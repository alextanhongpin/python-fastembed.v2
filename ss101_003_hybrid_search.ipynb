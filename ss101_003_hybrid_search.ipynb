{
 "cells": [
  {
   "cell_type": "markdown",
   "id": "fd7dcbcb-7623-4100-b23a-7713a1200f7c",
   "metadata": {},
   "source": [
    "# Semantic Search 101: Build a Hybrid Search Service with FastEmbed and Qdrant\n",
    "\n",
    "https://qdrant.tech/documentation/beginner-tutorials/hybrid-search-fastembed/"
   ]
  },
  {
   "cell_type": "code",
   "execution_count": 20,
   "id": "c40b9314-c950-494d-b7ee-4f5b22be97f4",
   "metadata": {},
   "outputs": [
    {
     "ename": "RuntimeError",
     "evalue": "Storage folder tmp/startups is already accessed by another instance of Qdrant client. If you require concurrent access, use Qdrant server instead.",
     "output_type": "error",
     "traceback": [
      "\u001b[31m---------------------------------------------------------------------------\u001b[39m",
      "\u001b[31mBlockingIOError\u001b[39m                           Traceback (most recent call last)",
      "\u001b[36mFile \u001b[39m\u001b[32m~/Documents/go/python-fastembed/.venv/lib/python3.12/site-packages/portalocker/portalocker.py:118\u001b[39m, in \u001b[36mlock\u001b[39m\u001b[34m(file_, flags)\u001b[39m\n\u001b[32m    117\u001b[39m \u001b[38;5;28;01mtry\u001b[39;00m:\n\u001b[32m--> \u001b[39m\u001b[32m118\u001b[39m     \u001b[43mLOCKER\u001b[49m\u001b[43m(\u001b[49m\u001b[43mfile_\u001b[49m\u001b[43m,\u001b[49m\u001b[43m \u001b[49m\u001b[43mflags\u001b[49m\u001b[43m)\u001b[49m\n\u001b[32m    119\u001b[39m \u001b[38;5;28;01mexcept\u001b[39;00m \u001b[38;5;167;01mOSError\u001b[39;00m \u001b[38;5;28;01mas\u001b[39;00m exc_value:\n\u001b[32m    120\u001b[39m     \u001b[38;5;66;03m# Python can use one of several different exception classes to\u001b[39;00m\n\u001b[32m    121\u001b[39m     \u001b[38;5;66;03m# represent timeout (most likely is BlockingIOError and IOError),\u001b[39;00m\n\u001b[32m   (...)\u001b[39m\u001b[32m    126\u001b[39m     \u001b[38;5;66;03m# inherit) and check the errno (which should be EACCESS or EAGAIN\u001b[39;00m\n\u001b[32m    127\u001b[39m     \u001b[38;5;66;03m# according to the spec).\u001b[39;00m\n",
      "\u001b[31mBlockingIOError\u001b[39m: [Errno 35] Resource temporarily unavailable",
      "\nThe above exception was the direct cause of the following exception:\n",
      "\u001b[31mAlreadyLocked\u001b[39m                             Traceback (most recent call last)",
      "\u001b[36mFile \u001b[39m\u001b[32m~/Documents/go/python-fastembed/.venv/lib/python3.12/site-packages/qdrant_client/local/qdrant_local.py:134\u001b[39m, in \u001b[36mQdrantLocal._load\u001b[39m\u001b[34m(self)\u001b[39m\n\u001b[32m    133\u001b[39m \u001b[38;5;28;01mtry\u001b[39;00m:\n\u001b[32m--> \u001b[39m\u001b[32m134\u001b[39m     \u001b[43mportalocker\u001b[49m\u001b[43m.\u001b[49m\u001b[43mlock\u001b[49m\u001b[43m(\u001b[49m\n\u001b[32m    135\u001b[39m \u001b[43m        \u001b[49m\u001b[38;5;28;43mself\u001b[39;49m\u001b[43m.\u001b[49m\u001b[43m_flock_file\u001b[49m\u001b[43m,\u001b[49m\n\u001b[32m    136\u001b[39m \u001b[43m        \u001b[49m\u001b[43mportalocker\u001b[49m\u001b[43m.\u001b[49m\u001b[43mLockFlags\u001b[49m\u001b[43m.\u001b[49m\u001b[43mEXCLUSIVE\u001b[49m\u001b[43m \u001b[49m\u001b[43m|\u001b[49m\u001b[43m \u001b[49m\u001b[43mportalocker\u001b[49m\u001b[43m.\u001b[49m\u001b[43mLockFlags\u001b[49m\u001b[43m.\u001b[49m\u001b[43mNON_BLOCKING\u001b[49m\u001b[43m,\u001b[49m\n\u001b[32m    137\u001b[39m \u001b[43m    \u001b[49m\u001b[43m)\u001b[49m\n\u001b[32m    138\u001b[39m \u001b[38;5;28;01mexcept\u001b[39;00m portalocker.exceptions.LockException:\n",
      "\u001b[36mFile \u001b[39m\u001b[32m~/Documents/go/python-fastembed/.venv/lib/python3.12/site-packages/portalocker/portalocker.py:131\u001b[39m, in \u001b[36mlock\u001b[39m\u001b[34m(file_, flags)\u001b[39m\n\u001b[32m    128\u001b[39m \u001b[38;5;28;01mif\u001b[39;00m exc_value.errno \u001b[38;5;129;01min\u001b[39;00m (errno.EACCES, errno.EAGAIN):\n\u001b[32m    129\u001b[39m     \u001b[38;5;66;03m# A timeout exception, wrap this so the outer code knows to try\u001b[39;00m\n\u001b[32m    130\u001b[39m     \u001b[38;5;66;03m# again (if it wants to).\u001b[39;00m\n\u001b[32m--> \u001b[39m\u001b[32m131\u001b[39m     \u001b[38;5;28;01mraise\u001b[39;00m exceptions.AlreadyLocked(\n\u001b[32m    132\u001b[39m         exc_value,\n\u001b[32m    133\u001b[39m         fh=file_,\n\u001b[32m    134\u001b[39m     ) \u001b[38;5;28;01mfrom\u001b[39;00m\u001b[38;5;250m \u001b[39m\u001b[34;01mexc_value\u001b[39;00m\n\u001b[32m    135\u001b[39m \u001b[38;5;28;01melse\u001b[39;00m:\n\u001b[32m    136\u001b[39m     \u001b[38;5;66;03m# Something else went wrong; don't wrap this so we stop\u001b[39;00m\n\u001b[32m    137\u001b[39m     \u001b[38;5;66;03m# immediately.\u001b[39;00m\n",
      "\u001b[31mAlreadyLocked\u001b[39m: [Errno 35] Resource temporarily unavailable",
      "\nDuring handling of the above exception, another exception occurred:\n",
      "\u001b[31mRuntimeError\u001b[39m                              Traceback (most recent call last)",
      "\u001b[36mCell\u001b[39m\u001b[36m \u001b[39m\u001b[32mIn[20]\u001b[39m\u001b[32m, line 4\u001b[39m\n\u001b[32m      1\u001b[39m \u001b[38;5;66;03m# Import client library\u001b[39;00m\n\u001b[32m      2\u001b[39m \u001b[38;5;28;01mfrom\u001b[39;00m\u001b[38;5;250m \u001b[39m\u001b[34;01mqdrant_client\u001b[39;00m\u001b[38;5;250m \u001b[39m\u001b[38;5;28;01mimport\u001b[39;00m QdrantClient,models\n\u001b[32m----> \u001b[39m\u001b[32m4\u001b[39m client = \u001b[43mQdrantClient\u001b[49m\u001b[43m(\u001b[49m\u001b[43mpath\u001b[49m\u001b[43m=\u001b[49m\u001b[33;43m\"\u001b[39;49m\u001b[33;43mtmp/startups\u001b[39;49m\u001b[33;43m\"\u001b[39;49m\u001b[43m)\u001b[49m\n",
      "\u001b[36mFile \u001b[39m\u001b[32m~/Documents/go/python-fastembed/.venv/lib/python3.12/site-packages/qdrant_client/qdrant_client.py:130\u001b[39m, in \u001b[36mQdrantClient.__init__\u001b[39m\u001b[34m(self, location, url, port, grpc_port, prefer_grpc, https, api_key, prefix, timeout, host, path, force_disable_check_same_thread, grpc_options, auth_token_provider, cloud_inference, check_compatibility, **kwargs)\u001b[39m\n\u001b[32m    125\u001b[39m     \u001b[38;5;28mself\u001b[39m._client = QdrantLocal(\n\u001b[32m    126\u001b[39m         location=location,\n\u001b[32m    127\u001b[39m         force_disable_check_same_thread=force_disable_check_same_thread,\n\u001b[32m    128\u001b[39m     )\n\u001b[32m    129\u001b[39m \u001b[38;5;28;01melif\u001b[39;00m path \u001b[38;5;129;01mis\u001b[39;00m \u001b[38;5;129;01mnot\u001b[39;00m \u001b[38;5;28;01mNone\u001b[39;00m:\n\u001b[32m--> \u001b[39m\u001b[32m130\u001b[39m     \u001b[38;5;28mself\u001b[39m._client = \u001b[43mQdrantLocal\u001b[49m\u001b[43m(\u001b[49m\n\u001b[32m    131\u001b[39m \u001b[43m        \u001b[49m\u001b[43mlocation\u001b[49m\u001b[43m=\u001b[49m\u001b[43mpath\u001b[49m\u001b[43m,\u001b[49m\n\u001b[32m    132\u001b[39m \u001b[43m        \u001b[49m\u001b[43mforce_disable_check_same_thread\u001b[49m\u001b[43m=\u001b[49m\u001b[43mforce_disable_check_same_thread\u001b[49m\u001b[43m,\u001b[49m\n\u001b[32m    133\u001b[39m \u001b[43m    \u001b[49m\u001b[43m)\u001b[49m\n\u001b[32m    134\u001b[39m \u001b[38;5;28;01melse\u001b[39;00m:\n\u001b[32m    135\u001b[39m     \u001b[38;5;28;01mif\u001b[39;00m location \u001b[38;5;129;01mis\u001b[39;00m \u001b[38;5;129;01mnot\u001b[39;00m \u001b[38;5;28;01mNone\u001b[39;00m \u001b[38;5;129;01mand\u001b[39;00m url \u001b[38;5;129;01mis\u001b[39;00m \u001b[38;5;28;01mNone\u001b[39;00m:\n",
      "\u001b[36mFile \u001b[39m\u001b[32m~/Documents/go/python-fastembed/.venv/lib/python3.12/site-packages/qdrant_client/local/qdrant_local.py:67\u001b[39m, in \u001b[36mQdrantLocal.__init__\u001b[39m\u001b[34m(self, location, force_disable_check_same_thread)\u001b[39m\n\u001b[32m     65\u001b[39m \u001b[38;5;28mself\u001b[39m.aliases: \u001b[38;5;28mdict\u001b[39m[\u001b[38;5;28mstr\u001b[39m, \u001b[38;5;28mstr\u001b[39m] = {}\n\u001b[32m     66\u001b[39m \u001b[38;5;28mself\u001b[39m._flock_file: Optional[TextIOWrapper] = \u001b[38;5;28;01mNone\u001b[39;00m\n\u001b[32m---> \u001b[39m\u001b[32m67\u001b[39m \u001b[38;5;28;43mself\u001b[39;49m\u001b[43m.\u001b[49m\u001b[43m_load\u001b[49m\u001b[43m(\u001b[49m\u001b[43m)\u001b[49m\n\u001b[32m     68\u001b[39m \u001b[38;5;28mself\u001b[39m._closed: \u001b[38;5;28mbool\u001b[39m = \u001b[38;5;28;01mFalse\u001b[39;00m\n",
      "\u001b[36mFile \u001b[39m\u001b[32m~/Documents/go/python-fastembed/.venv/lib/python3.12/site-packages/qdrant_client/local/qdrant_local.py:139\u001b[39m, in \u001b[36mQdrantLocal._load\u001b[39m\u001b[34m(self)\u001b[39m\n\u001b[32m    134\u001b[39m     portalocker.lock(\n\u001b[32m    135\u001b[39m         \u001b[38;5;28mself\u001b[39m._flock_file,\n\u001b[32m    136\u001b[39m         portalocker.LockFlags.EXCLUSIVE | portalocker.LockFlags.NON_BLOCKING,\n\u001b[32m    137\u001b[39m     )\n\u001b[32m    138\u001b[39m \u001b[38;5;28;01mexcept\u001b[39;00m portalocker.exceptions.LockException:\n\u001b[32m--> \u001b[39m\u001b[32m139\u001b[39m     \u001b[38;5;28;01mraise\u001b[39;00m \u001b[38;5;167;01mRuntimeError\u001b[39;00m(\n\u001b[32m    140\u001b[39m         \u001b[33mf\u001b[39m\u001b[33m\"\u001b[39m\u001b[33mStorage folder \u001b[39m\u001b[38;5;132;01m{\u001b[39;00m\u001b[38;5;28mself\u001b[39m.location\u001b[38;5;132;01m}\u001b[39;00m\u001b[33m is already accessed by another instance of Qdrant client.\u001b[39m\u001b[33m\"\u001b[39m\n\u001b[32m    141\u001b[39m         \u001b[33mf\u001b[39m\u001b[33m\"\u001b[39m\u001b[33m If you require concurrent access, use Qdrant server instead.\u001b[39m\u001b[33m\"\u001b[39m\n\u001b[32m    142\u001b[39m     )\n",
      "\u001b[31mRuntimeError\u001b[39m: Storage folder tmp/startups is already accessed by another instance of Qdrant client. If you require concurrent access, use Qdrant server instead."
     ]
    }
   ],
   "source": [
    "# Import client library\n",
    "from qdrant_client import QdrantClient, models\n",
    "\n",
    "client = QdrantClient(path=\"tmp/startups\")"
   ]
  },
  {
   "cell_type": "code",
   "execution_count": 2,
   "id": "4a82fcef-e2c0-421b-bad0-ca65730e4f69",
   "metadata": {},
   "outputs": [],
   "source": [
    "client.set_model(\"sentence-transformers/all-MiniLM-L6-v2\")\n",
    "\n",
    "# comment this line to use dense vectors only\n",
    "client.set_sparse_model(\"prithivida/Splade_PP_en_v1\")"
   ]
  },
  {
   "cell_type": "code",
   "execution_count": 3,
   "id": "80252a58-c603-492d-b450-f86a6decca07",
   "metadata": {},
   "outputs": [
    {
     "data": {
      "text/plain": [
       "{'fast-all-minilm-l6-v2': VectorParams(size=384, distance=<Distance.COSINE: 'Cosine'>, hnsw_config=None, quantization_config=None, on_disk=None, datatype=None, multivector_config=None)}"
      ]
     },
     "execution_count": 3,
     "metadata": {},
     "output_type": "execute_result"
    }
   ],
   "source": [
    "vectors_config = client.get_fastembed_vector_params()\n",
    "vectors_config"
   ]
  },
  {
   "cell_type": "code",
   "execution_count": 4,
   "id": "9ca3aed2-f7e1-40ac-9690-70fb076bdc45",
   "metadata": {},
   "outputs": [
    {
     "data": {
      "text/plain": [
       "{'fast-sparse-splade_pp_en_v1': SparseVectorParams(index=SparseIndexParams(full_scan_threshold=None, on_disk=None, datatype=None), modifier=None)}"
      ]
     },
     "execution_count": 4,
     "metadata": {},
     "output_type": "execute_result"
    }
   ],
   "source": [
    "sparse_vectors_config = client.get_fastembed_sparse_vector_params()\n",
    "sparse_vectors_config"
   ]
  },
  {
   "cell_type": "code",
   "execution_count": 5,
   "id": "755a999e-d8c7-4520-b540-4c3e694ee225",
   "metadata": {},
   "outputs": [],
   "source": [
    "if not client.collection_exists(\"startups\"):\n",
    "    client.create_collection(\n",
    "        collection_name=\"startups\",\n",
    "        vectors_config=vectors_config,\n",
    "        # comment this line to use dense vectors only\n",
    "        sparse_vectors_config=sparse_vectors_config,\n",
    "    )"
   ]
  },
  {
   "cell_type": "code",
   "execution_count": 6,
   "id": "216f9a7f-6a4c-4397-98fd-59ed876f2aeb",
   "metadata": {},
   "outputs": [],
   "source": [
    "import json\n",
    "\n",
    "payload_path = \"startups_demo.json\"\n",
    "metadata = []\n",
    "documents = []\n",
    "\n",
    "with open(payload_path) as fd:\n",
    "    for line in fd:\n",
    "        obj = json.loads(line)\n",
    "        documents.append(obj.pop(\"description\"))\n",
    "        metadata.append(obj)"
   ]
  },
  {
   "cell_type": "code",
   "execution_count": 7,
   "id": "8dfcf928-16a5-4aa3-8635-04cf05f58cfd",
   "metadata": {},
   "outputs": [],
   "source": [
    "documents = documents[:1000]\n",
    "metadata = metadata[:1000]"
   ]
  },
  {
   "cell_type": "code",
   "execution_count": 8,
   "id": "a0f4feec-8e02-4139-ab18-83d276e53d45",
   "metadata": {},
   "outputs": [],
   "source": [
    "from tqdm.notebook import tqdm"
   ]
  },
  {
   "cell_type": "code",
   "execution_count": null,
   "id": "b5c7840e-aad8-4916-ba36-57dd266c51da",
   "metadata": {},
   "outputs": [],
   "source": [
    "client.add(\n",
    "    collection_name=\"startups\",\n",
    "    documents=documents,\n",
    "    metadata=metadata,\n",
    "    # parallel=0,  # Use all available CPU cores to encode data.\n",
    "    # Requires wrapping code into if __name__ == '__main__' block\n",
    "    ids=tqdm(range(len(documents))),\n",
    ")"
   ]
  },
  {
   "cell_type": "code",
   "execution_count": 13,
   "id": "e9015708-93eb-46d9-9910-64566db3833b",
   "metadata": {},
   "outputs": [],
   "source": [
    "def search(text: str, query_filter=None):\n",
    "    search_result = client.query(\n",
    "        collection_name=\"startups\",\n",
    "        query_text=text,\n",
    "        query_filter=query_filter,  # If you don't want any filters for now\n",
    "        limit=5,  # 5 the closest results\n",
    "    )\n",
    "    # `search_result` contains found vector ids with similarity scores\n",
    "    # along with the stored payload\n",
    "\n",
    "    # Select and return metadata\n",
    "    metadata = [hit.metadata for hit in search_result]\n",
    "    return metadata"
   ]
  },
  {
   "cell_type": "code",
   "execution_count": 18,
   "id": "dd4e1c76-cb8d-41f0-b849-7f9af3a0d531",
   "metadata": {},
   "outputs": [
    {
     "data": {
      "text/plain": [
       "[{'document': 'Creative materials for better brand awarness \\nRoboToaster main goal is to assist companies and individuals create brand awareness. Whether you need engaging design, quality video, or amazing events. RoboToaster LLC, strives to create compelling and consistent stories through visual marketing tactics to give ...',\n",
       "  'name': 'RoboToaster',\n",
       "  'images': 'https://d1qb2nb5cznatu.cloudfront.net/startups/i/128687-71dfa1846b8ebc0da88e1fe933d51c73-thumb_jpg.jpg?buster=1349796491',\n",
       "  'alt': 'RoboToaster -  video advertising events brand marketing',\n",
       "  'link': 'http://RoboToaster.co',\n",
       "  'city': 'Chicago'},\n",
       " {'document': \"A new way to trade.\\nDesignByRobots' Trading App automates a critical part of the stock trading process-- making the leap from an incomprehensible number of possible directions to take your strategy development process to a manageable set of back-tested strategies to select from. ...\",\n",
       "  'name': 'DesignByRobots',\n",
       "  'images': 'https://d1qb2nb5cznatu.cloudfront.net/startups/i/25679-e154adc712fd35fbfeb3b93087d20b8b-thumb_jpg.jpg?buster=1317835125',\n",
       "  'alt': 'DesignByRobots -  software trading',\n",
       "  'link': 'http://designbyrobots.com/',\n",
       "  'city': 'Chicago'},\n",
       " {'document': 'Projection immersion (aka virtual reality) beyond #Oculus for Brick & Mortar \\nOur mission is to make immersive technology as purposeful as possible. In order to do this, we employ cost efficient systems in developing vital solutions.\\nWe are developing a core tech + platform (software) for user locomotion in 3D virtual environments. Initial ...',\n",
       "  'name': 'Semiautomatic Semiotics',\n",
       "  'images': 'https://d1qb2nb5cznatu.cloudfront.net/startups/i/1302-f3947d958b2d41eda43f69185abfd0d5-thumb_jpg.jpg?buster=1315770608',\n",
       "  'alt': 'Semiautomatic Semiotics  -  digital signage virtual reality San Jose',\n",
       "  'link': 'http://semiautomatic3d.com',\n",
       "  'city': 'Chicago'},\n",
       " {'document': 'Gesture Recognition Platform\\nWe at Rithmio have pushed the boundaries in the gesture recognition market by providing advanced gesture recognition as a platform. Our software libraries are built to run on any platform, including wearables, smartphones, or any other connected motion sensing ...',\n",
       "  'name': 'Rithmio',\n",
       "  'images': 'https://d1qb2nb5cznatu.cloudfront.net/startups/i/505509-8455465d442dc9cf2112f2caa4b29771-thumb_jpg.jpg?buster=1412717451',\n",
       "  'alt': 'Rithmio -  fitness human computer interaction Wearables',\n",
       "  'link': 'http://rithmio.com',\n",
       "  'city': 'Chicago'},\n",
       " {'document': 'Your apps. Simplified.\\nCloudbot is a mobile and web application that is an efficient solution to having your personal data and relationships scattered around on different services.\\nPeople rely on different applications to access the little bits of their lives saved in the cloud. ...',\n",
       "  'name': 'Cloudbot',\n",
       "  'images': 'https://d1qb2nb5cznatu.cloudfront.net/startups/i/1873-a83644b8a2d18d4b91742faf5c4eab7b-thumb_jpg.jpg?buster=1315741829',\n",
       "  'alt': 'Cloudbot -  mobile messaging social media platforms development platforms',\n",
       "  'link': 'http://cloudbot.com',\n",
       "  'city': 'Chicago'}]"
      ]
     },
     "execution_count": 18,
     "metadata": {},
     "output_type": "execute_result"
    }
   ],
   "source": [
    "search(\"robotics\")"
   ]
  },
  {
   "cell_type": "code",
   "execution_count": 22,
   "id": "9839b8d2-36f3-4101-8a48-01be17e08922",
   "metadata": {},
   "outputs": [
    {
     "data": {
      "text/plain": [
       "[{'document': 'Creative materials for better brand awarness \\nRoboToaster main goal is to assist companies and individuals create brand awareness. Whether you need engaging design, quality video, or amazing events. RoboToaster LLC, strives to create compelling and consistent stories through visual marketing tactics to give ...',\n",
       "  'name': 'RoboToaster',\n",
       "  'images': 'https://d1qb2nb5cznatu.cloudfront.net/startups/i/128687-71dfa1846b8ebc0da88e1fe933d51c73-thumb_jpg.jpg?buster=1349796491',\n",
       "  'alt': 'RoboToaster -  video advertising events brand marketing',\n",
       "  'link': 'http://RoboToaster.co',\n",
       "  'city': 'Chicago'},\n",
       " {'document': \"A new way to trade.\\nDesignByRobots' Trading App automates a critical part of the stock trading process-- making the leap from an incomprehensible number of possible directions to take your strategy development process to a manageable set of back-tested strategies to select from. ...\",\n",
       "  'name': 'DesignByRobots',\n",
       "  'images': 'https://d1qb2nb5cznatu.cloudfront.net/startups/i/25679-e154adc712fd35fbfeb3b93087d20b8b-thumb_jpg.jpg?buster=1317835125',\n",
       "  'alt': 'DesignByRobots -  software trading',\n",
       "  'link': 'http://designbyrobots.com/',\n",
       "  'city': 'Chicago'},\n",
       " {'document': 'Projection immersion (aka virtual reality) beyond #Oculus for Brick & Mortar \\nOur mission is to make immersive technology as purposeful as possible. In order to do this, we employ cost efficient systems in developing vital solutions.\\nWe are developing a core tech + platform (software) for user locomotion in 3D virtual environments. Initial ...',\n",
       "  'name': 'Semiautomatic Semiotics',\n",
       "  'images': 'https://d1qb2nb5cznatu.cloudfront.net/startups/i/1302-f3947d958b2d41eda43f69185abfd0d5-thumb_jpg.jpg?buster=1315770608',\n",
       "  'alt': 'Semiautomatic Semiotics  -  digital signage virtual reality San Jose',\n",
       "  'link': 'http://semiautomatic3d.com',\n",
       "  'city': 'Chicago'},\n",
       " {'document': 'Virtual reality operating system\\nWe believe that the adoption of VR technology will represent a sea change in how people interact with computers and collaborate with each other.\\nAnarchist is a Chicago-based software startup building a virtual reality operating system and developer toolkit. Smart ...',\n",
       "  'name': 'Anarchist',\n",
       "  'images': 'https://d1qb2nb5cznatu.cloudfront.net/startups/i/470881-ad62c25b4e82d5cd7f4561911e5a7493-thumb_jpg.jpg?buster=1408821642',\n",
       "  'alt': 'Anarchist -  productivity software developer tools digital entertainment virtual reality',\n",
       "  'link': 'http://anarchist.com',\n",
       "  'city': 'Chicago'},\n",
       " {'document': 'Your apps. Simplified.\\nCloudbot is a mobile and web application that is an efficient solution to having your personal data and relationships scattered around on different services.\\nPeople rely on different applications to access the little bits of their lives saved in the cloud. ...',\n",
       "  'name': 'Cloudbot',\n",
       "  'images': 'https://d1qb2nb5cznatu.cloudfront.net/startups/i/1873-a83644b8a2d18d4b91742faf5c4eab7b-thumb_jpg.jpg?buster=1315741829',\n",
       "  'alt': 'Cloudbot -  mobile messaging social media platforms development platforms',\n",
       "  'link': 'http://cloudbot.com',\n",
       "  'city': 'Chicago'}]"
      ]
     },
     "execution_count": 22,
     "metadata": {},
     "output_type": "execute_result"
    }
   ],
   "source": [
    "query_filter = models.Filter(\n",
    "    must=[models.FieldCondition(key=\"city\", match=models.MatchValue(value=\"Chicago\"))]\n",
    ")\n",
    "search(\"robotic\", query_filter)"
   ]
  },
  {
   "cell_type": "code",
   "execution_count": 23,
   "id": "839d46e8-71a7-4396-9ab9-658da9269097",
   "metadata": {},
   "outputs": [
    {
     "data": {
      "text/plain": [
       "[{'document': 'Financial Education for Young Professionals\\nSilver Step educates new financial consumers on the basics of wealth management, and lets them discover service providers that fit their needs.\\nThink of us as Yelp for financial services, with an educational component.',\n",
       "  'name': 'Silver Step',\n",
       "  'images': 'https://d1qb2nb5cznatu.cloudfront.net/startups/i/31271-7023073ac555ea3a430a4b8dbdbcb615-thumb_jpg.jpg?buster=1325694652',\n",
       "  'alt': 'Silver Step -  financial services education',\n",
       "  'link': 'http://www.thesilverstep.com',\n",
       "  'city': 'Chicago'},\n",
       " {'document': 'Changing the way you borrow with safer, faster, better financial products\\nAvant is changing the way consumers borrow money. Utilizing advanced algorithms and machine-learning capabilities, the company offers a unique and highly customized approach to the personal loan process. The combination of technology, analytics and customer service ...',\n",
       "  'name': 'Avant',\n",
       "  'images': 'https://d1qb2nb5cznatu.cloudfront.net/startups/i/168565-45d9c198ede0987843d850c5a963f084-thumb_jpg.jpg?buster=1434042946',\n",
       "  'alt': 'Avant -  analytics machine learning big data web development',\n",
       "  'link': 'https://www.avant.com',\n",
       "  'city': 'Chicago'},\n",
       " {'document': 'Technologically-enhanced financial mentoring for teens\\nMoneythink (MT) targets urban 11th and 12th graders. These students have dreams, but between age 17 and 20, they face many financial decisions that can make or break their future: getting/keeping a job, using a paycheck, credit cards, paying for college. To prepare ...',\n",
       "  'name': 'Moneythink',\n",
       "  'images': 'https://d1qb2nb5cznatu.cloudfront.net/startups/i/282361-0ae5f20b6d9a7433190bf03064b22902-thumb_jpg.jpg?buster=1382098658',\n",
       "  'alt': 'Moneythink -  financial services education ventures for good nonprofits',\n",
       "  'link': 'http://moneythink.org',\n",
       "  'city': 'Chicago'},\n",
       " {'document': 'The Private Network for Investments',\n",
       "  'name': 'Fundology',\n",
       "  'images': 'https://d1qb2nb5cznatu.cloudfront.net/startups/i/175739-0cbc4996113b629ab83dd3c528eedf8f-thumb_jpg.jpg?buster=1366819766',\n",
       "  'alt': 'Fundology -  financial services investment management finance',\n",
       "  'link': 'http://www.fundology.com',\n",
       "  'city': 'Chicago'},\n",
       " {'document': 'Personal Financial Execution (TM) system\\nSpendbot is a Personal Financial Execution solution to create a spending plan, optimize it, and stick to it so as to align spending with informed values. We combine cloud-based data visualization, algorithms, expert systems, and partner integrations to deliver ...',\n",
       "  'name': 'Spendbot',\n",
       "  'images': 'https://d1qb2nb5cznatu.cloudfront.net/startups/i/247454-ffa9f5098f7664641acc300d26590c9a-thumb_jpg.jpg?buster=1376078533',\n",
       "  'alt': 'Spendbot -  lead generation ventures for good personal finance health and wellness',\n",
       "  'link': 'http://www.spendbot.com',\n",
       "  'city': 'Chicago'}]"
      ]
     },
     "execution_count": 23,
     "metadata": {},
     "output_type": "execute_result"
    }
   ],
   "source": [
    "search(\"finance\")"
   ]
  }
 ],
 "metadata": {
  "kernelspec": {
   "display_name": "Python 3 (ipykernel)",
   "language": "python",
   "name": "python3"
  },
  "language_info": {
   "codemirror_mode": {
    "name": "ipython",
    "version": 3
   },
   "file_extension": ".py",
   "mimetype": "text/x-python",
   "name": "python",
   "nbconvert_exporter": "python",
   "pygments_lexer": "ipython3",
   "version": "3.12.9"
  }
 },
 "nbformat": 4,
 "nbformat_minor": 5
}
