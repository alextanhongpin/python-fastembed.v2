{
 "cells": [
  {
   "cell_type": "markdown",
   "id": "30853c8b-f8a4-4583-a9ae-5d888b4b2ea1",
   "metadata": {},
   "source": [
    "# How to generate Text Embeddings with FastEmbed"
   ]
  },
  {
   "cell_type": "code",
   "execution_count": 1,
   "id": "ffd7a481-4a5b-46a5-9c2b-b0de4274434f",
   "metadata": {},
   "outputs": [],
   "source": [
    "from fastembed import TextEmbedding"
   ]
  },
  {
   "cell_type": "code",
   "execution_count": 63,
   "id": "2610129b-7d34-49f9-9c1e-90667bee6163",
   "metadata": {},
   "outputs": [],
   "source": [
    "documents: [str] = [\n",
    "    \"FastEmbed is lighter than Transformers & Sentence-Transformers.\",\n",
    "    \"FastEmbed is supported by and maintained by Qdrant.\",\n",
    "    \"I have a cat\",\n",
    "]"
   ]
  },
  {
   "cell_type": "code",
   "execution_count": 64,
   "id": "64e79bfc-4e7d-4ca6-b851-cbdd996d7133",
   "metadata": {},
   "outputs": [
    {
     "data": {
      "text/plain": [
       "'BAAI/bge-small-en-v1.5'"
      ]
     },
     "execution_count": 64,
     "metadata": {},
     "output_type": "execute_result"
    }
   ],
   "source": [
    "embedding_model = TextEmbedding()\n",
    "embedding_model.model_name"
   ]
  },
  {
   "cell_type": "code",
   "execution_count": 65,
   "id": "cfc23060-235b-4b2d-bd20-a939cf36e6c5",
   "metadata": {},
   "outputs": [
    {
     "data": {
      "text/plain": [
       "array([-0.09479211,  0.01008398, -0.03087804,  0.02379127,  0.00236447,\n",
       "        0.00065356, -0.08248352,  0.00084713,  0.03719218,  0.01438666],\n",
       "      dtype=float32)"
      ]
     },
     "execution_count": 65,
     "metadata": {},
     "output_type": "execute_result"
    }
   ],
   "source": [
    "embeddings_generator = embedding_model.embed(documents)\n",
    "embeddings_list = list(embeddings_generator)\n",
    "embeddings_list[0][:10]"
   ]
  },
  {
   "cell_type": "markdown",
   "id": "f4380701-2498-4a3f-8c77-f73bdc92f452",
   "metadata": {},
   "source": [
    "## Calculating similarity"
   ]
  },
  {
   "cell_type": "code",
   "execution_count": 66,
   "id": "d5396a73-bea7-417f-8b3b-e8da3f58e857",
   "metadata": {},
   "outputs": [],
   "source": [
    "import numpy as np\n",
    "from qdrant_client import models\n",
    "from qdrant_client.local.distances import (\n",
    "    calculate_distance,\n",
    "    cosine_similarity,\n",
    "    dot_product,\n",
    "    euclidean_distance,\n",
    "    manhattan_distance,\n",
    ")"
   ]
  },
  {
   "cell_type": "code",
   "execution_count": 67,
   "id": "f5111e75-a818-4666-8724-2f10358933e4",
   "metadata": {},
   "outputs": [],
   "source": [
    "distance_types = [\n",
    "    cosine_similarity,\n",
    "    dot_product,\n",
    "    euclidean_distance,\n",
    "    manhattan_distance,\n",
    "]"
   ]
  },
  {
   "cell_type": "code",
   "execution_count": 68,
   "id": "1f7d89cc-5321-4964-9bea-bdb1080fef35",
   "metadata": {},
   "outputs": [
    {
     "name": "stdout",
     "output_type": "stream",
     "text": [
      "cosine_similarity [[0.6716511 0.4618737]]\n",
      "dot_product [[0.6716511 0.4618737]]\n",
      "euclidean_distance [[0.810369 1.037426]]\n",
      "manhattan_distance [[12.591358 16.071075]]\n"
     ]
    }
   ],
   "source": [
    "embeddings = np.array(embeddings_list)\n",
    "\n",
    "for distance_type in distance_types:\n",
    "    print(distance_type.__name__, distance_type(embeddings[:1], embeddings[1:]))"
   ]
  },
  {
   "cell_type": "code",
   "execution_count": 69,
   "id": "2e73c2e6-aea0-4aef-8555-9cb05652a77a",
   "metadata": {},
   "outputs": [
    {
     "name": "stdout",
     "output_type": "stream",
     "text": [
      "Cosine [[0.6716511 0.4618737]]\n",
      "Euclid [[0.810369 1.037426]]\n",
      "Dot [[0.6716511 0.4618737]]\n",
      "Manhattan [[12.591358 16.071075]]\n"
     ]
    }
   ],
   "source": [
    "for distance_type in list(models.Distance):\n",
    "    print(\n",
    "        distance_type, calculate_distance(embeddings[:1], embeddings[1:], distance_type)\n",
    "    )"
   ]
  },
  {
   "cell_type": "markdown",
   "id": "d9a9fbd8-6f91-4540-847f-6fb1b71be071",
   "metadata": {},
   "source": [
    "## Finding similarity"
   ]
  },
  {
   "cell_type": "code",
   "execution_count": 95,
   "id": "987bffc4-30fd-4b6b-a38f-86ee211da2e2",
   "metadata": {},
   "outputs": [],
   "source": [
    "query = \"I need a pet\"\n",
    "\n",
    "embeddings_generator = embedding_model.embed(query)\n",
    "embeddings_list = list(embeddings_generator)"
   ]
  },
  {
   "cell_type": "code",
   "execution_count": 96,
   "id": "2858c497-9bec-4320-bd11-8859ef723d8e",
   "metadata": {},
   "outputs": [
    {
     "data": {
      "text/plain": [
       "array([[0.433192  , 0.39380783, 0.77847326]], dtype=float32)"
      ]
     },
     "execution_count": 96,
     "metadata": {},
     "output_type": "execute_result"
    }
   ],
   "source": [
    "scores = calculate_distance(\n",
    "    np.array(embeddings_list), embeddings, distance_type=models.Distance.COSINE\n",
    ")\n",
    "scores"
   ]
  },
  {
   "cell_type": "code",
   "execution_count": 97,
   "id": "97ec736e-190b-48a3-97e7-57ff8712544e",
   "metadata": {},
   "outputs": [
    {
     "name": "stdout",
     "output_type": "stream",
     "text": [
      "I have a cat 0.77847326\n",
      "FastEmbed is lighter than Transformers & Sentence-Transformers. 0.433192\n",
      "FastEmbed is supported by and maintained by Qdrant. 0.39380783\n"
     ]
    }
   ],
   "source": [
    "recommendations = sorted(zip(documents, scores[0]), key=lambda x: x[1], reverse=True)\n",
    "for doc, score in recommendations:\n",
    "    print(doc, score)"
   ]
  }
 ],
 "metadata": {
  "kernelspec": {
   "display_name": "Python 3 (ipykernel)",
   "language": "python",
   "name": "python3"
  },
  "language_info": {
   "codemirror_mode": {
    "name": "ipython",
    "version": 3
   },
   "file_extension": ".py",
   "mimetype": "text/x-python",
   "name": "python",
   "nbconvert_exporter": "python",
   "pygments_lexer": "ipython3",
   "version": "3.12.9"
  }
 },
 "nbformat": 4,
 "nbformat_minor": 5
}
