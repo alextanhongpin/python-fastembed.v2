{
 "cells": [
  {
   "cell_type": "code",
   "execution_count": 1,
   "id": "471ea3b7-fc2d-436d-8de3-d0ad930cd103",
   "metadata": {},
   "outputs": [],
   "source": [
    "from qdrant_client import QdrantClient"
   ]
  },
  {
   "cell_type": "code",
   "execution_count": 2,
   "id": "15169300-088d-4ef4-a629-e6641dc8a330",
   "metadata": {},
   "outputs": [],
   "source": [
    "# client = QdrantClient(\":memory:\")\n",
    "# or\n",
    "client = QdrantClient(path=\"tmp/tmp.db\")\n",
    "# client.close()"
   ]
  },
  {
   "cell_type": "code",
   "execution_count": 3,
   "id": "2a1668fc-0664-438f-a56d-51bf129f2fe9",
   "metadata": {},
   "outputs": [],
   "source": [
    "cat_facts = [\n",
    "    \"Cats have 32 muscles in each ear, allowing for their unique ability to rotate their ears independently.\",\n",
    "    \"A group of cats is called a 'clowder'.\",\n",
    "    \"Cats can't taste sweetness.\",\n",
    "    \"A cat's whiskers help them navigate in the dark.\",\n",
    "    \"Cats have three eyelids: upper, lower, and third (also known as nictitating membrane).\",\n",
    "    \"Cats spend 1/3 of their waking hours sleeping.\",\n",
    "    \"A cat's purr can be a sign of happiness or self-soothing.\",\n",
    "    \"Cats have unique nose prints, just like humans have fingerprints.\",\n",
    "    \"The world's largest domesticated cat was Muffin, who measured 48.5 inches long and weighed 46.3 pounds.\",\n",
    "    \"Cats can't see in complete darkness but their night vision is excellent due to a reflective layer in the back of their eyes called the tapetum lucidum.\",\n",
    "]\n",
    "dog_facts = [\n",
    "    \"A dog's sense of smell is up to 10,000 times more sensitive than a human's.\",\n",
    "    \"Dogs can hear sounds at frequencies as high as 40,000 Hz, while humans can only hear up to 20,000 Hz.\",\n",
    "    \"A group of dogs is called a 'pack'.\",\n",
    "    \"Dogs have three eyelids: upper, lower, and nictitating membrane (third eyelid).\",\n",
    "    \"Dogs can dream just like humans do, and their brain waves show similar patterns during sleep.\",\n",
    "    \"The world's smallest dog breed is the Chihuahua, with adults weighing as little as 2 pounds.\",\n",
    "    \"A dog's tail language is more complex than human body language, conveying emotions and intentions.\",\n",
    "    \"Dogs can be right- or left-pawed, just like humans are right- or left-handed.\",\n",
    "    \"The oldest known dog remains dates back to around 14,000 years ago, during the Late Pleistocene era.\",\n",
    "    \"Dogs have a unique nose print, just like humans have fingerprints.\",\n",
    "]"
   ]
  },
  {
   "cell_type": "code",
   "execution_count": 4,
   "id": "d34289bb-8af3-496e-bd4b-d77bfdfaeddd",
   "metadata": {},
   "outputs": [],
   "source": [
    "docs = cat_facts + dog_facts\n",
    "metadata = [{\"source\": \"cats\"}] * len(cat_facts) + [{\"source\": \"dogs\"}] * len(dog_facts)\n",
    "ids = list(range(len(docs)))"
   ]
  },
  {
   "cell_type": "code",
   "execution_count": 5,
   "id": "1cc17e50-3269-4314-bfaa-7d3927e40f11",
   "metadata": {},
   "outputs": [
    {
     "data": {
      "text/plain": [
       "[0, 1, 2, 3, 4, 5, 6, 7, 8, 9, 10, 11, 12, 13, 14, 15, 16, 17, 18, 19]"
      ]
     },
     "execution_count": 5,
     "metadata": {},
     "output_type": "execute_result"
    }
   ],
   "source": [
    "client.add(\n",
    "    collection_name=\"cats_and_dogs\",\n",
    "    documents=docs,\n",
    "    metadata=metadata,\n",
    "    ids=ids,\n",
    ")"
   ]
  },
  {
   "cell_type": "code",
   "execution_count": 6,
   "id": "70c8b779-425b-4419-b4ce-2f72922dcef3",
   "metadata": {},
   "outputs": [
    {
     "data": {
      "text/plain": [
       "[QueryResponse(id=3, embedding=None, sparse_embedding=None, metadata={'document': \"A cat's whiskers help them navigate in the dark.\", 'source': 'cats'}, document=\"A cat's whiskers help them navigate in the dark.\", score=0.8960122052835192),\n",
       " QueryResponse(id=1, embedding=None, sparse_embedding=None, metadata={'document': \"A group of cats is called a 'clowder'.\", 'source': 'cats'}, document=\"A group of cats is called a 'clowder'.\", score=0.8371795647410071),\n",
       " QueryResponse(id=6, embedding=None, sparse_embedding=None, metadata={'document': \"A cat's purr can be a sign of happiness or self-soothing.\", 'source': 'cats'}, document=\"A cat's purr can be a sign of happiness or self-soothing.\", score=0.8254998513657924),\n",
       " QueryResponse(id=4, embedding=None, sparse_embedding=None, metadata={'document': 'Cats have three eyelids: upper, lower, and third (also known as nictitating membrane).', 'source': 'cats'}, document='Cats have three eyelids: upper, lower, and third (also known as nictitating membrane).', score=0.8023456208085149),\n",
       " QueryResponse(id=7, embedding=None, sparse_embedding=None, metadata={'document': 'Cats have unique nose prints, just like humans have fingerprints.', 'source': 'cats'}, document='Cats have unique nose prints, just like humans have fingerprints.', score=0.7981833555293472),\n",
       " QueryResponse(id=0, embedding=None, sparse_embedding=None, metadata={'document': 'Cats have 32 muscles in each ear, allowing for their unique ability to rotate their ears independently.', 'source': 'cats'}, document='Cats have 32 muscles in each ear, allowing for their unique ability to rotate their ears independently.', score=0.7954061802722565),\n",
       " QueryResponse(id=2, embedding=None, sparse_embedding=None, metadata={'document': \"Cats can't taste sweetness.\", 'source': 'cats'}, document=\"Cats can't taste sweetness.\", score=0.7869827666131266),\n",
       " QueryResponse(id=5, embedding=None, sparse_embedding=None, metadata={'document': 'Cats spend 1/3 of their waking hours sleeping.', 'source': 'cats'}, document='Cats spend 1/3 of their waking hours sleeping.', score=0.780144426020518),\n",
       " QueryResponse(id=19, embedding=None, sparse_embedding=None, metadata={'document': 'Dogs have a unique nose print, just like humans have fingerprints.', 'source': 'dogs'}, document='Dogs have a unique nose print, just like humans have fingerprints.', score=0.7677822913415793),\n",
       " QueryResponse(id=12, embedding=None, sparse_embedding=None, metadata={'document': \"A group of dogs is called a 'pack'.\", 'source': 'dogs'}, document=\"A group of dogs is called a 'pack'.\", score=0.7629267110754824)]"
      ]
     },
     "execution_count": 6,
     "metadata": {},
     "output_type": "execute_result"
    }
   ],
   "source": [
    "search_result = client.query(\n",
    "    collection_name=\"cats_and_dogs\", query_text=\"what is the cat whisker for?\"\n",
    ")\n",
    "search_result"
   ]
  },
  {
   "cell_type": "code",
   "execution_count": 11,
   "id": "b024fcef-71a6-4c34-bbfd-6842bfa53ba3",
   "metadata": {},
   "outputs": [
    {
     "name": "stdout",
     "output_type": "stream",
     "text": [
      "{'doc': \"A cat's whiskers help them navigate in the dark.\", 'score': 0.8960122052835192}\n",
      "{'doc': \"A group of cats is called a 'clowder'.\", 'score': 0.8371795647410071}\n",
      "{'doc': \"A cat's purr can be a sign of happiness or self-soothing.\", 'score': 0.8254998513657924}\n",
      "{'doc': 'Cats have three eyelids: upper, lower, and third (also known as nictitating membrane).', 'score': 0.8023456208085149}\n",
      "{'doc': 'Cats have unique nose prints, just like humans have fingerprints.', 'score': 0.7981833555293472}\n",
      "{'doc': 'Cats have 32 muscles in each ear, allowing for their unique ability to rotate their ears independently.', 'score': 0.7954061802722565}\n",
      "{'doc': \"Cats can't taste sweetness.\", 'score': 0.7869827666131266}\n",
      "{'doc': 'Cats spend 1/3 of their waking hours sleeping.', 'score': 0.780144426020518}\n",
      "{'doc': \"Cats can't see in complete darkness but their night vision is excellent due to a reflective layer in the back of their eyes called the tapetum lucidum.\", 'score': 0.7533777384436582}\n",
      "{'doc': \"The world's largest domesticated cat was Muffin, who measured 48.5 inches long and weighed 46.3 pounds.\", 'score': 0.7365538436735114}\n"
     ]
    }
   ],
   "source": [
    "from qdrant_client.models import FieldCondition, Filter, MatchValue\n",
    "\n",
    "search_result = client.query(\n",
    "    collection_name=\"cats_and_dogs\",\n",
    "    query_text=\"what is the cat whisker for?\",\n",
    "    query_filter=Filter(\n",
    "        must=[FieldCondition(key=\"source\", match=MatchValue(value=\"cats\"))]\n",
    "    ),\n",
    ")\n",
    "\n",
    "for res in search_result:\n",
    "    print(dict(doc=res.document, score=res.score))"
   ]
  }
 ],
 "metadata": {
  "kernelspec": {
   "display_name": "Python 3 (ipykernel)",
   "language": "python",
   "name": "python3"
  },
  "language_info": {
   "codemirror_mode": {
    "name": "ipython",
    "version": 3
   },
   "file_extension": ".py",
   "mimetype": "text/x-python",
   "name": "python",
   "nbconvert_exporter": "python",
   "pygments_lexer": "ipython3",
   "version": "3.12.9"
  }
 },
 "nbformat": 4,
 "nbformat_minor": 5
}
