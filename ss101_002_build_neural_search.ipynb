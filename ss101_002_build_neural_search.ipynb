{
 "cells": [
  {
   "cell_type": "markdown",
   "id": "8c64c0f2-1d39-4c23-80ca-c484d9a290a9",
   "metadata": {},
   "source": [
    "# Semantic Search 101: Build a Neural Search Service\n",
    "\n",
    "https://qdrant.tech/documentation/beginner-tutorials/neural-search/"
   ]
  },
  {
   "cell_type": "code",
   "execution_count": 1,
   "id": "4a70667c-0bde-4b25-ad21-c951d0a52f46",
   "metadata": {},
   "outputs": [
    {
     "name": "stdout",
     "output_type": "stream",
     "text": [
      "  % Total    % Received % Xferd  Average Speed   Time    Time     Time  Current\n",
      "                                 Dload  Upload   Total   Spent    Left  Speed\n",
      "100 21.1M  100 21.1M    0     0  4564k      0  0:00:04  0:00:04 --:--:-- 5832k\n",
      "curl: (6) Could not resolve host: startups_demo.json\n"
     ]
    }
   ],
   "source": [
    "!curl https://storage.googleapis.com/generall-shared-data/startups_demo.json -O startups_demo.json"
   ]
  },
  {
   "cell_type": "code",
   "execution_count": 2,
   "id": "ac0e96ad-2017-452c-8063-3a93b545933c",
   "metadata": {},
   "outputs": [
    {
     "name": "stdout",
     "output_type": "stream",
     "text": [
      "{\"name\":\"SaferCodes\",\"images\":\"https:\\/\\/safer.codes\\/img\\/brand\\/logo-icon.png\",\"alt\":\"SaferCodes Logo QR codes generator system forms for COVID-19\",\"description\":\"QR codes systems for COVID-19.\\nSimple tools for bars, restaurants, offices, and other small proximity businesses.\",\"link\":\"https:\\/\\/safer.codes\",\"city\":\"Chicago\"}\n"
     ]
    }
   ],
   "source": [
    "!head -n 1 startups_demo.json"
   ]
  },
  {
   "cell_type": "code",
   "execution_count": 7,
   "id": "5d2267fc-e93b-45ad-8a2f-78c046387ac5",
   "metadata": {},
   "outputs": [],
   "source": [
    "import json\n",
    "\n",
    "import numpy as np\n",
    "import pandas as pd\n",
    "from fastembed import TextEmbedding\n",
    "from tqdm.notebook import tqdm"
   ]
  },
  {
   "cell_type": "code",
   "execution_count": 13,
   "id": "c5af89f0-0ec0-48cf-9e71-42a61810a979",
   "metadata": {},
   "outputs": [
    {
     "data": {
      "text/plain": [
       "{'model': 'sentence-transformers/all-MiniLM-L6-v2',\n",
       " 'dim': 384,\n",
       " 'description': 'Text embeddings, Unimodal (text), English, 256 input tokens truncation, Prefixes for queries/documents: not necessary, 2021 year.',\n",
       " 'license': 'apache-2.0',\n",
       " 'size_in_GB': 0.09,\n",
       " 'sources': {'url': 'https://storage.googleapis.com/qdrant-fastembed/sentence-transformers-all-MiniLM-L6-v2.tar.gz',\n",
       "  'hf': 'qdrant/all-MiniLM-L6-v2-onnx'},\n",
       " 'model_file': 'model.onnx'}"
      ]
     },
     "execution_count": 13,
     "metadata": {},
     "output_type": "execute_result"
    }
   ],
   "source": [
    "model_name = \"sentence-transformers/all-MiniLM-L6-v2\"\n",
    "for model in TextEmbedding.list_supported_models():\n",
    "    if model[\"model\"] == model_name:\n",
    "        break\n",
    "\n",
    "model"
   ]
  },
  {
   "cell_type": "code",
   "execution_count": 14,
   "id": "670f3bf1-3f65-4807-828a-6473e05813c1",
   "metadata": {},
   "outputs": [],
   "source": [
    "embedding_model = TextEmbedding(model_name=model_name)"
   ]
  },
  {
   "cell_type": "markdown",
   "id": "a5a47ba2-c538-4bd0-9630-6cbdd59fa7a2",
   "metadata": {},
   "source": [
    "## Prepare sample dataset"
   ]
  },
  {
   "cell_type": "code",
   "execution_count": 15,
   "id": "be633665-86e4-46f4-9189-c9d3a8a05b6b",
   "metadata": {},
   "outputs": [
    {
     "data": {
      "text/html": [
       "<div>\n",
       "<style scoped>\n",
       "    .dataframe tbody tr th:only-of-type {\n",
       "        vertical-align: middle;\n",
       "    }\n",
       "\n",
       "    .dataframe tbody tr th {\n",
       "        vertical-align: top;\n",
       "    }\n",
       "\n",
       "    .dataframe thead th {\n",
       "        text-align: right;\n",
       "    }\n",
       "</style>\n",
       "<table border=\"1\" class=\"dataframe\">\n",
       "  <thead>\n",
       "    <tr style=\"text-align: right;\">\n",
       "      <th></th>\n",
       "      <th>name</th>\n",
       "      <th>images</th>\n",
       "      <th>alt</th>\n",
       "      <th>description</th>\n",
       "      <th>link</th>\n",
       "      <th>city</th>\n",
       "    </tr>\n",
       "  </thead>\n",
       "  <tbody>\n",
       "    <tr>\n",
       "      <th>0</th>\n",
       "      <td>SaferCodes</td>\n",
       "      <td>https://safer.codes/img/brand/logo-icon.png</td>\n",
       "      <td>SaferCodes Logo QR codes generator system form...</td>\n",
       "      <td>QR codes systems for COVID-19.\\nSimple tools f...</td>\n",
       "      <td>https://safer.codes</td>\n",
       "      <td>Chicago</td>\n",
       "    </tr>\n",
       "    <tr>\n",
       "      <th>1</th>\n",
       "      <td>Human Practice</td>\n",
       "      <td>https://d1qb2nb5cznatu.cloudfront.net/startups...</td>\n",
       "      <td>Human Practice -  health care information tech...</td>\n",
       "      <td>Point-of-care word of mouth\\nPreferral is a mo...</td>\n",
       "      <td>http://humanpractice.com</td>\n",
       "      <td>Chicago</td>\n",
       "    </tr>\n",
       "    <tr>\n",
       "      <th>2</th>\n",
       "      <td>StyleSeek</td>\n",
       "      <td>https://d1qb2nb5cznatu.cloudfront.net/startups...</td>\n",
       "      <td>StyleSeek -  e-commerce fashion mass customiza...</td>\n",
       "      <td>Personalized e-commerce for lifestyle products...</td>\n",
       "      <td>http://styleseek.com</td>\n",
       "      <td>Chicago</td>\n",
       "    </tr>\n",
       "    <tr>\n",
       "      <th>3</th>\n",
       "      <td>Scout</td>\n",
       "      <td>https://d1qb2nb5cznatu.cloudfront.net/startups...</td>\n",
       "      <td>Scout -  security consumer electronics interne...</td>\n",
       "      <td>Hassle-free Home Security\\nScout is a self-ins...</td>\n",
       "      <td>http://www.scoutalarm.com</td>\n",
       "      <td>Chicago</td>\n",
       "    </tr>\n",
       "    <tr>\n",
       "      <th>4</th>\n",
       "      <td>Invitation codes</td>\n",
       "      <td>https://invitation.codes/img/inv-brand-fb3.png</td>\n",
       "      <td>Invitation App - Share referral codes community</td>\n",
       "      <td>The referral community\\nInvitation App is a so...</td>\n",
       "      <td>https://invitation.codes</td>\n",
       "      <td>Chicago</td>\n",
       "    </tr>\n",
       "  </tbody>\n",
       "</table>\n",
       "</div>"
      ],
      "text/plain": [
       "               name                                             images  \\\n",
       "0        SaferCodes        https://safer.codes/img/brand/logo-icon.png   \n",
       "1    Human Practice  https://d1qb2nb5cznatu.cloudfront.net/startups...   \n",
       "2         StyleSeek  https://d1qb2nb5cznatu.cloudfront.net/startups...   \n",
       "3             Scout  https://d1qb2nb5cznatu.cloudfront.net/startups...   \n",
       "4  Invitation codes     https://invitation.codes/img/inv-brand-fb3.png   \n",
       "\n",
       "                                                 alt  \\\n",
       "0  SaferCodes Logo QR codes generator system form...   \n",
       "1  Human Practice -  health care information tech...   \n",
       "2  StyleSeek -  e-commerce fashion mass customiza...   \n",
       "3  Scout -  security consumer electronics interne...   \n",
       "4   Invitation App - Share referral codes community    \n",
       "\n",
       "                                         description  \\\n",
       "0  QR codes systems for COVID-19.\\nSimple tools f...   \n",
       "1  Point-of-care word of mouth\\nPreferral is a mo...   \n",
       "2  Personalized e-commerce for lifestyle products...   \n",
       "3  Hassle-free Home Security\\nScout is a self-ins...   \n",
       "4  The referral community\\nInvitation App is a so...   \n",
       "\n",
       "                        link     city  \n",
       "0        https://safer.codes  Chicago  \n",
       "1   http://humanpractice.com  Chicago  \n",
       "2       http://styleseek.com  Chicago  \n",
       "3  http://www.scoutalarm.com  Chicago  \n",
       "4   https://invitation.codes  Chicago  "
      ]
     },
     "execution_count": 15,
     "metadata": {},
     "output_type": "execute_result"
    }
   ],
   "source": [
    "df = pd.read_json(\"startups_demo.json\", lines=True)\n",
    "df.head()"
   ]
  },
  {
   "cell_type": "code",
   "execution_count": 16,
   "id": "ae54a924-a9f3-40b7-b17c-79ecb12ea3ca",
   "metadata": {},
   "outputs": [],
   "source": [
    "vectors = list(\n",
    "    embedding_model.embed([row.alt + \". \" + row.description for row in df.itertuples()])\n",
    ")"
   ]
  },
  {
   "cell_type": "code",
   "execution_count": 17,
   "id": "88ae722c-1a85-4879-8d3b-81b19b29ff2a",
   "metadata": {},
   "outputs": [],
   "source": [
    "np.save(\"startup_vectors.npy\", vectors, allow_pickle=False)"
   ]
  },
  {
   "cell_type": "markdown",
   "id": "824a8e48-97cf-4c98-95d8-8e488215ba89",
   "metadata": {},
   "source": [
    "## Upload data to qdrant"
   ]
  },
  {
   "cell_type": "code",
   "execution_count": 18,
   "id": "a8c6f9bc-5291-4601-97e4-8c2e867ba0eb",
   "metadata": {},
   "outputs": [],
   "source": [
    "from qdrant_client import QdrantClient\n",
    "from qdrant_client.models import Distance, VectorParams"
   ]
  },
  {
   "cell_type": "code",
   "execution_count": 19,
   "id": "486ba4bc-17ec-412f-b03e-630ebd057786",
   "metadata": {},
   "outputs": [],
   "source": [
    "client = QdrantClient(\":memory:\")"
   ]
  },
  {
   "cell_type": "code",
   "execution_count": 20,
   "id": "488d6600-b274-4f61-bab3-f3f2f386b77d",
   "metadata": {},
   "outputs": [],
   "source": [
    "if not client.collection_exists(\"startups\"):\n",
    "    client.create_collection(\n",
    "        collection_name=\"startups\",\n",
    "        vectors_config=VectorParams(size=384, distance=Distance.COSINE),\n",
    "    )"
   ]
  },
  {
   "cell_type": "code",
   "execution_count": 22,
   "id": "cd52ee24-d41c-4cf3-a19d-51a65df46bba",
   "metadata": {},
   "outputs": [],
   "source": [
    "fd = open(\"startups_demo.json\")\n",
    "\n",
    "# Payload is now an iterator over startup data\n",
    "payload = map(json.loads, fd)\n",
    "\n",
    "# Load all vectors into memory, numpy array works as iterable afor itself.\n",
    "# Other options would be to use Mmap, if you don't want to load all data into RAM.\n",
    "vectors = np.load(\"startup_vectors.npy\")"
   ]
  },
  {
   "cell_type": "code",
   "execution_count": 23,
   "id": "17da9718-ee0a-466c-bd73-7a9eedf6409c",
   "metadata": {},
   "outputs": [
    {
     "name": "stderr",
     "output_type": "stream",
     "text": [
      "/var/folders/v5/8v9k6wcn65jbbct8spl3wwsh0000gn/T/ipykernel_59718/2314715236.py:1: UserWarning: Local mode is not recommended for collections with more than 20,000 points. Current collection contains 40474 points. Consider using Qdrant in Docker or Qdrant Cloud for better performance with large datasets.\n",
      "  client.upload_collection(\n"
     ]
    }
   ],
   "source": [
    "client.upload_collection(\n",
    "    collection_name=\"startups\",\n",
    "    vectors=vectors,\n",
    "    payload=payload,\n",
    "    ids=None,  # Vector ids will be assigned automatically\n",
    "    batch_size=256,  # How many vectors will be uploaded in a single request?\n",
    ")"
   ]
  },
  {
   "cell_type": "markdown",
   "id": "c5ee70d2-85a9-4b7f-b8f0-9b80b3e5a3c9",
   "metadata": {},
   "source": [
    "## Build the search API"
   ]
  },
  {
   "cell_type": "code",
   "execution_count": 34,
   "id": "bb0c1f88-9898-4cb7-b67f-cd2818f7d33d",
   "metadata": {},
   "outputs": [],
   "source": [
    "def search(text: str):\n",
    "    # Convert text query into vector.\n",
    "    vector = list(embedding_model.embed(text))[0]\n",
    "\n",
    "    # Use `vector` to search for closest vectors in the collection.\n",
    "    search_result = client.query_points(\n",
    "        collection_name=\"startups\", query=vector, query_filter=None, limit=5\n",
    "    ).points\n",
    "\n",
    "    payloads = [hit.payload for hit in search_result]\n",
    "    return payloads"
   ]
  },
  {
   "cell_type": "code",
   "execution_count": 36,
   "id": "214d6256-4842-4e0d-806b-804e564e5b47",
   "metadata": {},
   "outputs": [
    {
     "data": {
      "text/plain": [
       "[{'name': 'Orchid Robotics',\n",
       "  'images': 'https://d1qb2nb5cznatu.cloudfront.net/startups/i/281423-bd01451f06bd2888ebf239580d502263-thumb_jpg.jpg?buster=1392329500',\n",
       "  'alt': 'Orchid Robotics -  robotics machine learning artificial intelligence industrial automation',\n",
       "  'description': \"Advanced Software for Robots\\nGoogle's machine learning techniques applied to robotics.\",\n",
       "  'link': 'http://www.orchidrobotics.com',\n",
       "  'city': 'Boston'},\n",
       " {'name': 'Robotbase',\n",
       "  'images': 'https://d1qb2nb5cznatu.cloudfront.net/startups/i/190707-d6f705aa7d803faa6bd5c33c281698b4-thumb_jpg.jpg?buster=1420224362',\n",
       "  'alt': 'Robotbase -  robotics artificial intelligence internet of things hardware + software',\n",
       "  'description': \"The World's First Artificial Intelligence Personal Robot\\nORDER NOW ON KICKSTARTER\\nhttps://www.kickstarter.com/projects/403524037/personal-robot\\nMeet the world’s first Artificial Intelligence Personal Robot. \\xa0\\nShe's a friend, a multi-talented personal assistant, an awesome photographer, a reliable security guard, a ...\",\n",
       "  'link': 'http://www.robotbase.com',\n",
       "  'city': 'New York'},\n",
       " {'name': 'Robots Alive - Simplified Robotics',\n",
       "  'images': 'https://d1qb2nb5cznatu.cloudfront.net/startups/i/477280-85f224c8ed6429bd9b65b33506aaa34e-thumb_jpg.jpg?buster=1409540159',\n",
       "  'alt': 'Robots Alive - Simplified Robotics -  manufacturing robotics industrial automation fmcg',\n",
       "  'description': 'Simplistic Industrial Robots for the SME\\nWe are a Bangalore based robotics technology firm working on simple and easy to use industrial robots for the SME\\nOur robots are equipped with intelligent software which allows the SME machine operator to program the application on the robot in a few minutes\\nHence ...',\n",
       "  'link': 'http://www.robots-alive.com',\n",
       "  'city': 'Bangalore'},\n",
       " {'name': 'Robotic Wares',\n",
       "  'images': 'https://d1qb2nb5cznatu.cloudfront.net/startups/i/484731-0aedee32a15b36c57132b952cbf15506-thumb_jpg.jpg?buster=1410386454',\n",
       "  'alt': 'Robotic Wares - ',\n",
       "  'description': 'Get the Latest News, Analysis, Opinion & Multimedia from the world of Business & Finance.',\n",
       "  'link': 'http://www.livemint.com/',\n",
       "  'city': 'New Delhi'},\n",
       " {'name': 'Neurala',\n",
       "  'images': 'https://d1qb2nb5cznatu.cloudfront.net/startups/i/136219-e6edc37bb162e0dc5ecb7629435010e0-thumb_jpg.jpg?buster=1352511607',\n",
       "  'alt': 'Neurala -  robotics artificial intelligence video conferencing software',\n",
       "  'description': 'Building brains for bots.\\nThe Neurala for telepresence software provides robots with learning, intelligence, and autonomy. Neurala frees you from driving a robot and instead allows you to focus on communicating and interacting with someone.\\nA robot preloaded with Neurala’s software will ...',\n",
       "  'link': 'http://neurala.com',\n",
       "  'city': 'Boston'}]"
      ]
     },
     "execution_count": 36,
     "metadata": {},
     "output_type": "execute_result"
    }
   ],
   "source": [
    "search(\"robotic ai\")"
   ]
  },
  {
   "cell_type": "code",
   "execution_count": 37,
   "id": "46e07af9-a0e1-4c64-847e-b7b8e3c84de5",
   "metadata": {},
   "outputs": [
    {
     "data": {
      "text/plain": [
       "[{'name': 'Finomial',\n",
       "  'images': 'https://d1qb2nb5cznatu.cloudfront.net/startups/i/65946-437a75bc2055ce89a40402860c2a53b6-thumb_jpg.jpg?buster=1408376313',\n",
       "  'alt': 'Finomial -  finance',\n",
       "  'description': '',\n",
       "  'link': 'http://finomial.com',\n",
       "  'city': 'New York'},\n",
       " {'name': 'U.S. Fiduciary',\n",
       "  'images': 'https://angel.co/images/shared/nopic_startup.png',\n",
       "  'alt': 'U.S. Fiduciary -  finance',\n",
       "  'description': '',\n",
       "  'link': 'http://www.usfiduciary.com',\n",
       "  'city': 'Houston'},\n",
       " {'name': 'American Express',\n",
       "  'images': 'https://d1qb2nb5cznatu.cloudfront.net/startups/i/42490-41d65934240d652086fde74873a443fa-thumb_jpg.jpg?buster=1326850941',\n",
       "  'alt': 'American Express -  finance',\n",
       "  'description': '',\n",
       "  'link': 'https://www.americanexpress.com',\n",
       "  'city': 'New York'},\n",
       " {'name': 'Paymentus',\n",
       "  'images': 'https://d1qb2nb5cznatu.cloudfront.net/startups/i/63392-f817eedec057e834b69dacb82c5c1f38-thumb_jpg.jpg?buster=1408893681',\n",
       "  'alt': 'Paymentus -  finance',\n",
       "  'description': '',\n",
       "  'link': 'http://www.paymentus.com',\n",
       "  'city': 'Atlanta'},\n",
       " {'name': 'FinancialAsk',\n",
       "  'images': 'https://d1qb2nb5cznatu.cloudfront.net/startups/i/367328-7805129c5017b6bd7fb575d17276c23a-thumb_jpg.jpg?buster=1417054915',\n",
       "  'alt': 'FinancialAsk -  personal finance finance technology',\n",
       "  'description': 'A financial advice marketplace\\nFinancialAsk makes financial advice easy to get via apps and the web. \\xa0It connects qualified financial advisers with consumers in a transparent marketplace that makes financial advices accessible and affordable.\\nUsers simply ask a financial question which is answered ...',\n",
       "  'link': 'http://www.andrewlai.org',\n",
       "  'city': 'Melbourne'}]"
      ]
     },
     "execution_count": 37,
     "metadata": {},
     "output_type": "execute_result"
    }
   ],
   "source": [
    "search(\"financial\")"
   ]
  }
 ],
 "metadata": {
  "kernelspec": {
   "display_name": "Python 3 (ipykernel)",
   "language": "python",
   "name": "python3"
  },
  "language_info": {
   "codemirror_mode": {
    "name": "ipython",
    "version": 3
   },
   "file_extension": ".py",
   "mimetype": "text/x-python",
   "name": "python",
   "nbconvert_exporter": "python",
   "pygments_lexer": "ipython3",
   "version": "3.12.9"
  }
 },
 "nbformat": 4,
 "nbformat_minor": 5
}
