{
 "cells": [
  {
   "cell_type": "markdown",
   "id": "ddd2c3f6-d0d8-4b8e-8223-331d672f3153",
   "metadata": {},
   "source": [
    "# Essentials: Data Ingestion for Beginners\n",
    "\n",
    "https://qdrant.tech/documentation/data-ingestion-beginners/"
   ]
  },
  {
   "cell_type": "code",
   "execution_count": 9,
   "id": "fb2f0929-5498-4fbe-a95e-e926e4650766",
   "metadata": {},
   "outputs": [],
   "source": [
    "from fastembed import ImageEmbedding, TextEmbedding\n",
    "from PIL import Image\n",
    "from qdrant_client import QdrantClient, models"
   ]
  },
  {
   "cell_type": "code",
   "execution_count": 2,
   "id": "d4d8a990-94ea-4a6e-98b0-5ac2885c2912",
   "metadata": {},
   "outputs": [],
   "source": [
    "image_model = ImageEmbedding(model_name=\"Qdrant/clip-ViT-B-32-vision\")\n",
    "text_model = TextEmbedding(model_name=\"BAAI/bge-small-en-v1.5\")"
   ]
  },
  {
   "cell_type": "code",
   "execution_count": 3,
   "id": "384ecb35-b53a-445d-8d5b-249e9683e501",
   "metadata": {},
   "outputs": [
    {
     "data": {
      "text/plain": [
       "True"
      ]
     },
     "execution_count": 3,
     "metadata": {},
     "output_type": "execute_result"
    }
   ],
   "source": [
    "client = QdrantClient(\":memory:\")\n",
    "client.create_collection(\n",
    "    collection_name=\"products-data\",\n",
    "    vectors_config={\n",
    "        \"text_embedding\": models.VectorParams(\n",
    "            size=384,\n",
    "            distance=models.Distance.COSINE,\n",
    "        ),\n",
    "        \"image_embedding\": models.VectorParams(\n",
    "            size=512, distance=models.Distance.COSINE\n",
    "        ),\n",
    "    },\n",
    ")"
   ]
  },
  {
   "cell_type": "code",
   "execution_count": 4,
   "id": "597ebc4e-d4ea-408d-99e2-093ed1621a20",
   "metadata": {},
   "outputs": [],
   "source": [
    "from langchain_community.document_loaders import DirectoryLoader"
   ]
  },
  {
   "cell_type": "code",
   "execution_count": 5,
   "id": "f442b0dd-544a-454a-9ef2-a801c0957fa5",
   "metadata": {},
   "outputs": [],
   "source": [
    "pdf_loader = DirectoryLoader(\"data\", glob=\"**/*.pdf\", show_progress=False)\n",
    "pdfs = pdf_loader.load()"
   ]
  },
  {
   "cell_type": "code",
   "execution_count": 61,
   "id": "eff9b1b6-0164-4d84-888a-26b8a153a50f",
   "metadata": {},
   "outputs": [],
   "source": [
    "unique_id = 1\n",
    "\n",
    "for idx, doc in enumerate(pdfs):\n",
    "    unique_id += 1\n",
    "    source = doc.metadata[\"source\"]\n",
    "    content = doc.page_content\n",
    "    embedding = list(text_model.embed(content))[0]\n",
    "    client.upload_points(\n",
    "        collection_name=\"products-data\",\n",
    "        points=[\n",
    "            models.PointStruct(\n",
    "                id=unique_id,\n",
    "                vector={\"text_embedding\": embedding},\n",
    "                payload={\"review\": content, \"source\": source},\n",
    "            )\n",
    "        ],\n",
    "    )"
   ]
  },
  {
   "cell_type": "code",
   "execution_count": 7,
   "id": "6c58aa4c-6388-46f2-96fe-e406145810fc",
   "metadata": {},
   "outputs": [
    {
     "name": "stderr",
     "output_type": "stream",
     "text": [
      "huggingface/tokenizers: The current process just got forked, after parallelism has already been used. Disabling parallelism to avoid deadlocks...\n",
      "To disable this warning, you can either:\n",
      "\t- Avoid using `tokenizers` before the fork if possible\n",
      "\t- Explicitly set the environment variable TOKENIZERS_PARALLELISM=(true | false)\n",
      "huggingface/tokenizers: The current process just got forked, after parallelism has already been used. Disabling parallelism to avoid deadlocks...\n",
      "To disable this warning, you can either:\n",
      "\t- Avoid using `tokenizers` before the fork if possible\n",
      "\t- Explicitly set the environment variable TOKENIZERS_PARALLELISM=(true | false)\n",
      "huggingface/tokenizers: The current process just got forked, after parallelism has already been used. Disabling parallelism to avoid deadlocks...\n",
      "To disable this warning, you can either:\n",
      "\t- Avoid using `tokenizers` before the fork if possible\n",
      "\t- Explicitly set the environment variable TOKENIZERS_PARALLELISM=(true | false)\n",
      "huggingface/tokenizers: The current process just got forked, after parallelism has already been used. Disabling parallelism to avoid deadlocks...\n",
      "To disable this warning, you can either:\n",
      "\t- Avoid using `tokenizers` before the fork if possible\n",
      "\t- Explicitly set the environment variable TOKENIZERS_PARALLELISM=(true | false)\n",
      "huggingface/tokenizers: The current process just got forked, after parallelism has already been used. Disabling parallelism to avoid deadlocks...\n",
      "To disable this warning, you can either:\n",
      "\t- Avoid using `tokenizers` before the fork if possible\n",
      "\t- Explicitly set the environment variable TOKENIZERS_PARALLELISM=(true | false)\n",
      "huggingface/tokenizers: The current process just got forked, after parallelism has already been used. Disabling parallelism to avoid deadlocks...\n",
      "To disable this warning, you can either:\n",
      "\t- Avoid using `tokenizers` before the fork if possible\n",
      "\t- Explicitly set the environment variable TOKENIZERS_PARALLELISM=(true | false)\n",
      "huggingface/tokenizers: The current process just got forked, after parallelism has already been used. Disabling parallelism to avoid deadlocks...\n",
      "To disable this warning, you can either:\n",
      "\t- Avoid using `tokenizers` before the fork if possible\n",
      "\t- Explicitly set the environment variable TOKENIZERS_PARALLELISM=(true | false)\n",
      "huggingface/tokenizers: The current process just got forked, after parallelism has already been used. Disabling parallelism to avoid deadlocks...\n",
      "To disable this warning, you can either:\n",
      "\t- Avoid using `tokenizers` before the fork if possible\n",
      "\t- Explicitly set the environment variable TOKENIZERS_PARALLELISM=(true | false)\n"
     ]
    }
   ],
   "source": [
    "image_loader = DirectoryLoader(\n",
    "    \"images\",\n",
    "    glob=[\"**/*.png\", \"**/*.jpg\"],\n",
    "    show_progress=False,\n",
    ")\n",
    "images = image_loader.load()"
   ]
  },
  {
   "cell_type": "code",
   "execution_count": 62,
   "id": "ad1f5b89-61a2-4029-997b-8a1fa13668d9",
   "metadata": {},
   "outputs": [],
   "source": [
    "for idx, doc in enumerate(images):\n",
    "    unique_id += 1\n",
    "    source = doc.metadata[\"source\"]\n",
    "    image = Image.open(source)\n",
    "    content = doc.page_content\n",
    "\n",
    "    text_embedding = list(text_model.embed(content))[0]\n",
    "    image_embedding = list(image_model.embed(image))[0]\n",
    "    client.upload_points(\n",
    "        collection_name=\"products-data\",\n",
    "        points=[\n",
    "            models.PointStruct(\n",
    "                id=unique_id,\n",
    "                vector={\n",
    "                    \"text_embedding\": embedding,\n",
    "                    \"image_embedding\": image_embedding,\n",
    "                },\n",
    "                payload={\"review\": content, \"source\": source},\n",
    "            )\n",
    "        ],\n",
    "    )"
   ]
  },
  {
   "cell_type": "code",
   "execution_count": 63,
   "id": "4aad0962-932d-4fc4-bb56-47546841622c",
   "metadata": {},
   "outputs": [],
   "source": [
    "hits = client.query_points(\n",
    "    collection_name=\"products-data\",\n",
    "    query=list(text_model.query_embed(\"Singapore Johor\"))[0],\n",
    "    using=\"text_embedding\",\n",
    ")"
   ]
  },
  {
   "cell_type": "code",
   "execution_count": 64,
   "id": "67d54e1a-496e-4833-a38d-c78d56f46747",
   "metadata": {},
   "outputs": [
    {
     "data": {
      "text/plain": [
       "'data/Singapore winners.pdf'"
      ]
     },
     "execution_count": 64,
     "metadata": {},
     "output_type": "execute_result"
    }
   ],
   "source": [
    "hits.points[0].payload[\"source\"]"
   ]
  },
  {
   "cell_type": "code",
   "execution_count": 65,
   "id": "c241be33-693c-4308-ae87-f1d332428fc6",
   "metadata": {},
   "outputs": [],
   "source": [
    "hits = client.query_points(\n",
    "    collection_name=\"products-data\",\n",
    "    query=list(image_model.embed(Image.open(\"images/wiki_computer_science.png\")))[0],\n",
    "    using=\"image_embedding\",\n",
    ")"
   ]
  },
  {
   "cell_type": "code",
   "execution_count": 66,
   "id": "2178674e-9e94-4553-963c-5e5dacf07a50",
   "metadata": {},
   "outputs": [
    {
     "data": {
      "text/plain": [
       "'images/wiki_computer_science.png'"
      ]
     },
     "execution_count": 66,
     "metadata": {},
     "output_type": "execute_result"
    }
   ],
   "source": [
    "hits.points[0].payload[\"source\"]"
   ]
  }
 ],
 "metadata": {
  "kernelspec": {
   "display_name": "Python 3 (ipykernel)",
   "language": "python",
   "name": "python3"
  },
  "language_info": {
   "codemirror_mode": {
    "name": "ipython",
    "version": 3
   },
   "file_extension": ".py",
   "mimetype": "text/x-python",
   "name": "python",
   "nbconvert_exporter": "python",
   "pygments_lexer": "ipython3",
   "version": "3.12.9"
  }
 },
 "nbformat": 4,
 "nbformat_minor": 5
}
