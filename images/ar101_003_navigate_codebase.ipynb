{
 "cells": [
  {
   "cell_type": "markdown",
   "id": "d3f4b61f-81cf-4114-8afd-eebc2c8c8367",
   "metadata": {},
   "source": [
    "# Advanced Retrieval 101: Navigate Your Codebase with Semantic Search and Qdrant\n",
    "\n",
    "\n",
    "https://qdrant.tech/documentation/advanced-tutorials/code-search/"
   ]
  },
  {
   "cell_type": "code",
   "execution_count": 1,
   "id": "f7b455e2-b551-46a3-9048-9a0b13a230f1",
   "metadata": {},
   "outputs": [
    {
     "name": "stdout",
     "output_type": "stream",
     "text": [
      "  % Total    % Received % Xferd  Average Speed   Time    Time     Time  Current\n",
      "                                 Dload  Upload   Total   Spent    Left  Speed\n",
      "100 4805k  100 4805k    0     0   913k      0  0:00:05  0:00:05 --:--:-- 1137k\n"
     ]
    }
   ],
   "source": [
    "# !curl https://storage.googleapis.com/tutorial-attachments/code-search/structures.jsonl -O"
   ]
  },
  {
   "cell_type": "code",
   "execution_count": 3,
   "id": "cc607190-59e6-4862-9396-d7bc68f319ed",
   "metadata": {},
   "outputs": [],
   "source": [
    "# !tail structures.jsonl"
   ]
  },
  {
   "cell_type": "code",
   "execution_count": 4,
   "id": "7b815e0c-417c-40b4-adad-d78d124fe62c",
   "metadata": {},
   "outputs": [],
   "source": [
    "import json\n",
    "\n",
    "structures = []\n",
    "with open(\"structures.jsonl\", \"r\") as fp:\n",
    "    for i, row in enumerate(fp):\n",
    "        entry = json.loads(row)\n",
    "        structures.append(entry)"
   ]
  },
  {
   "cell_type": "markdown",
   "id": "3cb57c60-6d7a-413b-a084-42d5a1debd2e",
   "metadata": {},
   "source": [
    "## Code to natural language conversion"
   ]
  },
  {
   "cell_type": "code",
   "execution_count": 5,
   "id": "9cfb2802-1bb0-46c4-9eff-55f7586501d6",
   "metadata": {},
   "outputs": [],
   "source": [
    "import re\n",
    "from typing import Any, Dict\n",
    "\n",
    "import inflection\n",
    "\n",
    "\n",
    "def textify(chunk: Dict[str, Any]) -> str:\n",
    "    # Get rid of all the camel case / snake case\n",
    "    # - inflection.underscore changes the camel case to snake case\n",
    "    # - inflection.humanize converts the snake case to human readable form\n",
    "    name = inflection.humanize(inflection.underscore(chunk[\"name\"]))\n",
    "    signature = inflection.humanize(inflection.underscore(chunk[\"signature\"]))\n",
    "\n",
    "    # Check if docstring is provided\n",
    "    docstring = \"\"\n",
    "    if chunk[\"docstring\"]:\n",
    "        docstring = f\"that does {chunk['docstring']} \"\n",
    "\n",
    "    # Extract the location of that snippet of code\n",
    "    context = (\n",
    "        f\"module {chunk['context']['module']} \" f\"file {chunk['context']['file_name']}\"\n",
    "    )\n",
    "    if chunk[\"context\"][\"struct_name\"]:\n",
    "        struct_name = inflection.humanize(\n",
    "            inflection.underscore(chunk[\"context\"][\"struct_name\"])\n",
    "        )\n",
    "        context = f\"defined in struct {struct_name} {context}\"\n",
    "\n",
    "    # Combine all the bits and pieces together\n",
    "    text_representation = (\n",
    "        f\"{chunk['code_type']} {name} \"\n",
    "        f\"{docstring}\"\n",
    "        f\"defined as {signature} \"\n",
    "        f\"{context}\"\n",
    "    )\n",
    "\n",
    "    # Remove any special characters and concatenate the tokens\n",
    "    tokens = re.split(r\"\\W\", text_representation)\n",
    "    tokens = filter(lambda x: x, tokens)\n",
    "    return \" \".join(tokens)"
   ]
  },
  {
   "cell_type": "markdown",
   "id": "8c51039c-536d-4720-ac18-68ce132d0b47",
   "metadata": {},
   "source": [
    "## Natural language embeddings"
   ]
  },
  {
   "cell_type": "code",
   "execution_count": 6,
   "id": "92c5f1b1-049e-4c3c-894e-a83063682efe",
   "metadata": {},
   "outputs": [],
   "source": [
    "text_representations = list(map(textify, structures))"
   ]
  },
  {
   "cell_type": "code",
   "execution_count": 9,
   "id": "9f67503e-3963-46e6-9972-915cc0072bfd",
   "metadata": {},
   "outputs": [
    {
     "data": {
      "application/vnd.jupyter.widget-view+json": {
       "model_id": "eab8e80f66f242279f0ee81e29538905",
       "version_major": 2,
       "version_minor": 0
      },
      "text/plain": [
       "modules.json:   0%|          | 0.00/349 [00:00<?, ?B/s]"
      ]
     },
     "metadata": {},
     "output_type": "display_data"
    },
    {
     "data": {
      "application/vnd.jupyter.widget-view+json": {
       "model_id": "e4cfa7482e814c7e9ba8a160da19f4a0",
       "version_major": 2,
       "version_minor": 0
      },
      "text/plain": [
       "config_sentence_transformers.json:   0%|          | 0.00/116 [00:00<?, ?B/s]"
      ]
     },
     "metadata": {},
     "output_type": "display_data"
    },
    {
     "data": {
      "application/vnd.jupyter.widget-view+json": {
       "model_id": "c7c56e7d7edd4faaacba5534e8475e30",
       "version_major": 2,
       "version_minor": 0
      },
      "text/plain": [
       "README.md:   0%|          | 0.00/10.5k [00:00<?, ?B/s]"
      ]
     },
     "metadata": {},
     "output_type": "display_data"
    },
    {
     "data": {
      "application/vnd.jupyter.widget-view+json": {
       "model_id": "71a1b8de452a48898ededb9ad6b106db",
       "version_major": 2,
       "version_minor": 0
      },
      "text/plain": [
       "sentence_bert_config.json:   0%|          | 0.00/53.0 [00:00<?, ?B/s]"
      ]
     },
     "metadata": {},
     "output_type": "display_data"
    },
    {
     "data": {
      "application/vnd.jupyter.widget-view+json": {
       "model_id": "c61791af5b9d4131ad752c69968c05c6",
       "version_major": 2,
       "version_minor": 0
      },
      "text/plain": [
       "config.json:   0%|          | 0.00/612 [00:00<?, ?B/s]"
      ]
     },
     "metadata": {},
     "output_type": "display_data"
    },
    {
     "data": {
      "application/vnd.jupyter.widget-view+json": {
       "model_id": "c2baeebb0b404b00ace212a3b5dacf1e",
       "version_major": 2,
       "version_minor": 0
      },
      "text/plain": [
       "model.safetensors:   0%|          | 0.00/90.9M [00:00<?, ?B/s]"
      ]
     },
     "metadata": {},
     "output_type": "display_data"
    },
    {
     "data": {
      "application/vnd.jupyter.widget-view+json": {
       "model_id": "e94a104a8f66464fbc73b090eb7d48b3",
       "version_major": 2,
       "version_minor": 0
      },
      "text/plain": [
       "tokenizer_config.json:   0%|          | 0.00/350 [00:00<?, ?B/s]"
      ]
     },
     "metadata": {},
     "output_type": "display_data"
    },
    {
     "data": {
      "application/vnd.jupyter.widget-view+json": {
       "model_id": "f154b10d91c94928bed0c0e235f342f4",
       "version_major": 2,
       "version_minor": 0
      },
      "text/plain": [
       "vocab.txt:   0%|          | 0.00/232k [00:00<?, ?B/s]"
      ]
     },
     "metadata": {},
     "output_type": "display_data"
    },
    {
     "data": {
      "application/vnd.jupyter.widget-view+json": {
       "model_id": "c875eaada1634c1eb84fc34b1b7757cd",
       "version_major": 2,
       "version_minor": 0
      },
      "text/plain": [
       "tokenizer.json:   0%|          | 0.00/466k [00:00<?, ?B/s]"
      ]
     },
     "metadata": {},
     "output_type": "display_data"
    },
    {
     "data": {
      "application/vnd.jupyter.widget-view+json": {
       "model_id": "26f718e653334d6d920503312288be66",
       "version_major": 2,
       "version_minor": 0
      },
      "text/plain": [
       "special_tokens_map.json:   0%|          | 0.00/112 [00:00<?, ?B/s]"
      ]
     },
     "metadata": {},
     "output_type": "display_data"
    },
    {
     "data": {
      "application/vnd.jupyter.widget-view+json": {
       "model_id": "488c36ad6c754ce5b34664836c59473e",
       "version_major": 2,
       "version_minor": 0
      },
      "text/plain": [
       "config.json:   0%|          | 0.00/190 [00:00<?, ?B/s]"
      ]
     },
     "metadata": {},
     "output_type": "display_data"
    },
    {
     "data": {
      "application/vnd.jupyter.widget-view+json": {
       "model_id": "2b51a1dac07b4987a2cd21a111393a6a",
       "version_major": 2,
       "version_minor": 0
      },
      "text/plain": [
       "Batches:   0%|          | 0/148 [00:00<?, ?it/s]"
      ]
     },
     "metadata": {},
     "output_type": "display_data"
    }
   ],
   "source": [
    "from sentence_transformers import SentenceTransformer\n",
    "\n",
    "nlp_model = SentenceTransformer(\"all-MiniLM-L6-v2\")\n",
    "nlp_embeddings = nlp_model.encode(\n",
    "    text_representations,\n",
    "    show_progress_bar=True,\n",
    ")"
   ]
  },
  {
   "cell_type": "markdown",
   "id": "bfacde89-b34b-42af-a8d7-2db5aa8c3b4a",
   "metadata": {},
   "source": [
    "## Code embeddings"
   ]
  },
  {
   "cell_type": "code",
   "execution_count": 11,
   "id": "3a253fdd-496c-4af5-898b-f451281b903c",
   "metadata": {},
   "outputs": [
    {
     "data": {
      "application/vnd.jupyter.widget-view+json": {
       "model_id": "4bad5789ff054d31a7cbb1d8c20c0014",
       "version_major": 2,
       "version_minor": 0
      },
      "text/plain": [
       "modules.json:   0%|          | 0.00/229 [00:00<?, ?B/s]"
      ]
     },
     "metadata": {},
     "output_type": "display_data"
    },
    {
     "data": {
      "application/vnd.jupyter.widget-view+json": {
       "model_id": "0b4ab39c90c245b2a2c4f1e27e43e69f",
       "version_major": 2,
       "version_minor": 0
      },
      "text/plain": [
       "README.md:   0%|          | 0.00/7.44k [00:00<?, ?B/s]"
      ]
     },
     "metadata": {},
     "output_type": "display_data"
    },
    {
     "data": {
      "application/vnd.jupyter.widget-view+json": {
       "model_id": "34e95fd39f484ec1b06f2373948452f1",
       "version_major": 2,
       "version_minor": 0
      },
      "text/plain": [
       "sentence_bert_config.json:   0%|          | 0.00/99.0 [00:00<?, ?B/s]"
      ]
     },
     "metadata": {},
     "output_type": "display_data"
    },
    {
     "data": {
      "application/vnd.jupyter.widget-view+json": {
       "model_id": "7360f24289c741cabe6d3f181c160223",
       "version_major": 2,
       "version_minor": 0
      },
      "text/plain": [
       "config.json:   0%|          | 0.00/1.22k [00:00<?, ?B/s]"
      ]
     },
     "metadata": {},
     "output_type": "display_data"
    },
    {
     "data": {
      "application/vnd.jupyter.widget-view+json": {
       "model_id": "14e41aee65ef4d739688277f97f8e4fa",
       "version_major": 2,
       "version_minor": 0
      },
      "text/plain": [
       "configuration_bert.py:   0%|          | 0.00/8.53k [00:00<?, ?B/s]"
      ]
     },
     "metadata": {},
     "output_type": "display_data"
    },
    {
     "name": "stderr",
     "output_type": "stream",
     "text": [
      "A new version of the following files was downloaded from https://huggingface.co/jinaai/jina-bert-v2-qk-post-norm:\n",
      "- configuration_bert.py\n",
      ". Make sure to double-check they do not contain any added malicious code. To avoid downloading new versions of the code file, you can pin a revision.\n",
      "/Users/alextanhongpin/.cache/huggingface/modules/transformers_modules/jinaai/jina-bert-v2-qk-post-norm/3baf9e3ac750e76e8edd3019170176884695fb94/configuration_bert.py:29: UserWarning: optimum is not installed. To use OnnxConfig and BertOnnxConfig, make sure that `optimum` package is installed\n",
      "  warnings.warn(\"optimum is not installed. To use OnnxConfig and BertOnnxConfig, make sure that `optimum` package is installed\")\n"
     ]
    },
    {
     "data": {
      "application/vnd.jupyter.widget-view+json": {
       "model_id": "0307736f6ded4640b277dc71a36229c2",
       "version_major": 2,
       "version_minor": 0
      },
      "text/plain": [
       "modeling_bert.py:   0%|          | 0.00/96.0k [00:00<?, ?B/s]"
      ]
     },
     "metadata": {},
     "output_type": "display_data"
    },
    {
     "name": "stderr",
     "output_type": "stream",
     "text": [
      "A new version of the following files was downloaded from https://huggingface.co/jinaai/jina-bert-v2-qk-post-norm:\n",
      "- modeling_bert.py\n",
      ". Make sure to double-check they do not contain any added malicious code. To avoid downloading new versions of the code file, you can pin a revision.\n"
     ]
    },
    {
     "data": {
      "application/vnd.jupyter.widget-view+json": {
       "model_id": "c9a79b420f5c499b9d64673f9f988dc6",
       "version_major": 2,
       "version_minor": 0
      },
      "text/plain": [
       "model.safetensors:   0%|          | 0.00/322M [00:00<?, ?B/s]"
      ]
     },
     "metadata": {},
     "output_type": "display_data"
    },
    {
     "data": {
      "application/vnd.jupyter.widget-view+json": {
       "model_id": "1a9bab06567a453b9d94157501731370",
       "version_major": 2,
       "version_minor": 0
      },
      "text/plain": [
       "tokenizer_config.json:   0%|          | 0.00/493 [00:00<?, ?B/s]"
      ]
     },
     "metadata": {},
     "output_type": "display_data"
    },
    {
     "data": {
      "application/vnd.jupyter.widget-view+json": {
       "model_id": "985399c63af847e081f9b538caf7fb64",
       "version_major": 2,
       "version_minor": 0
      },
      "text/plain": [
       "vocab.json:   0%|          | 0.00/971k [00:00<?, ?B/s]"
      ]
     },
     "metadata": {},
     "output_type": "display_data"
    },
    {
     "data": {
      "application/vnd.jupyter.widget-view+json": {
       "model_id": "beb688cc0da14300b04799b4aade5927",
       "version_major": 2,
       "version_minor": 0
      },
      "text/plain": [
       "tokenizer.json:   0%|          | 0.00/2.56M [00:00<?, ?B/s]"
      ]
     },
     "metadata": {},
     "output_type": "display_data"
    },
    {
     "data": {
      "application/vnd.jupyter.widget-view+json": {
       "model_id": "79acaf3db2fd432bb4efc6843b795aa4",
       "version_major": 2,
       "version_minor": 0
      },
      "text/plain": [
       "special_tokens_map.json:   0%|          | 0.00/280 [00:00<?, ?B/s]"
      ]
     },
     "metadata": {},
     "output_type": "display_data"
    },
    {
     "data": {
      "application/vnd.jupyter.widget-view+json": {
       "model_id": "b28cfa2adbce4cb69578681513811b67",
       "version_major": 2,
       "version_minor": 0
      },
      "text/plain": [
       "config.json:   0%|          | 0.00/191 [00:00<?, ?B/s]"
      ]
     },
     "metadata": {},
     "output_type": "display_data"
    },
    {
     "data": {
      "application/vnd.jupyter.widget-view+json": {
       "model_id": "f3435c08c4e041078f5a006f8ac8205e",
       "version_major": 2,
       "version_minor": 0
      },
      "text/plain": [
       "Batches:   0%|          | 0/1181 [00:00<?, ?it/s]"
      ]
     },
     "metadata": {},
     "output_type": "display_data"
    }
   ],
   "source": [
    "# Extract the code snippets from the structures to a separate list\n",
    "code_snippets = [structure[\"context\"][\"snippet\"] for structure in structures]\n",
    "code_model = SentenceTransformer(\n",
    "    \"jinaai/jina-embeddings-v2-base-code\", trust_remote_code=True\n",
    ")\n",
    "code_model.max_seq_length = 8192  # increase the context length window\n",
    "code_embeddings = code_model.encode(\n",
    "    code_snippets,\n",
    "    batch_size=4,\n",
    "    show_progress_bar=True,\n",
    ")"
   ]
  },
  {
   "cell_type": "markdown",
   "id": "e7256b2a-1ec8-478f-8127-975a40095425",
   "metadata": {},
   "source": [
    "## Create collection"
   ]
  },
  {
   "cell_type": "code",
   "execution_count": 13,
   "id": "46db30b7-aaea-4697-97ed-8b67b0c7e098",
   "metadata": {},
   "outputs": [
    {
     "data": {
      "text/plain": [
       "True"
      ]
     },
     "execution_count": 13,
     "metadata": {},
     "output_type": "execute_result"
    }
   ],
   "source": [
    "from qdrant_client import QdrantClient, models\n",
    "\n",
    "client = QdrantClient(\":memory:\")\n",
    "client.create_collection(\n",
    "    \"qdrant-sources\",\n",
    "    vectors_config={\n",
    "        \"text\": models.VectorParams(\n",
    "            size=nlp_embeddings.shape[1],\n",
    "            distance=models.Distance.COSINE,\n",
    "        ),\n",
    "        \"code\": models.VectorParams(\n",
    "            size=code_embeddings.shape[1],\n",
    "            distance=models.Distance.COSINE,\n",
    "        ),\n",
    "    },\n",
    ")"
   ]
  },
  {
   "cell_type": "code",
   "execution_count": 14,
   "id": "3a72600b-85bb-42b0-ad6d-d337c3300d61",
   "metadata": {},
   "outputs": [],
   "source": [
    "import uuid\n",
    "\n",
    "points = [\n",
    "    models.PointStruct(\n",
    "        id=uuid.uuid4().hex,\n",
    "        vector={\n",
    "            \"text\": text_embedding,\n",
    "            \"code\": code_embedding,\n",
    "        },\n",
    "        payload=structure,\n",
    "    )\n",
    "    for text_embedding, code_embedding, structure in zip(\n",
    "        nlp_embeddings, code_embeddings, structures\n",
    "    )\n",
    "]\n",
    "\n",
    "client.upload_points(\"qdrant-sources\", points=points, batch_size=64)"
   ]
  },
  {
   "cell_type": "markdown",
   "id": "cde87dfc-485d-4045-9fec-aa88183c2ca3",
   "metadata": {},
   "source": [
    "## Querying the codebase"
   ]
  },
  {
   "cell_type": "markdown",
   "id": "485b6077-3bc9-46bb-8916-d2ada4937290",
   "metadata": {},
   "source": [
    "### Using text embedding"
   ]
  },
  {
   "cell_type": "code",
   "execution_count": 15,
   "id": "51f6cdec-2c72-4e17-a9f4-a74e90aa150a",
   "metadata": {},
   "outputs": [],
   "source": [
    "query = \"How do I count points in a collection?\"\n",
    "\n",
    "hits = client.query_points(\n",
    "    \"qdrant-sources\",\n",
    "    query=nlp_model.encode(query).tolist(),\n",
    "    using=\"text\",\n",
    "    limit=5,\n",
    ").points"
   ]
  },
  {
   "cell_type": "code",
   "execution_count": 29,
   "id": "b80cbb2f-c8c6-4066-b5b2-5c7e9e5d950d",
   "metadata": {},
   "outputs": [
    {
     "name": "stdout",
     "output_type": "stream",
     "text": [
      "{'name': 'count',\n",
      " 'signature': 'async fn count (& self , collection_name : & str , request : '\n",
      "              'CountRequestInternal , read_consistency : Option < '\n",
      "              'ReadConsistency > , shard_selection : ShardSelectorInternal ,) '\n",
      "              '-> Result < CountResult , StorageError >',\n",
      " 'code_type': 'Function',\n",
      " 'docstring': '= \" Count points in the collection.\"',\n",
      " 'line': 120,\n",
      " 'line_from': 108,\n",
      " 'line_to': 132,\n",
      " 'context': {'module': 'toc',\n",
      "             'file_path': 'lib/storage/src/content_manager/toc/point_ops.rs',\n",
      "             'file_name': 'point_ops.rs',\n",
      "             'struct_name': 'TableOfContent',\n",
      "             'snippet': '    /// Count points in the collection.\\n'\n",
      "                        '    ///\\n'\n",
      "                        '    /// # Arguments\\n'\n",
      "                        '    ///\\n'\n",
      "                        '    /// * `collection_name` - in what collection do '\n",
      "                        'we count\\n'\n",
      "                        '    /// * `request` - [`CountRequestInternal`]\\n'\n",
      "                        '    /// * `shard_selection` - which local shard to '\n",
      "                        'use\\n'\n",
      "                        '    ///\\n'\n",
      "                        '    /// # Result\\n'\n",
      "                        '    ///\\n'\n",
      "                        '    /// Number of points in the collection.\\n'\n",
      "                        '    ///\\n'\n",
      "                        '    pub async fn count(\\n'\n",
      "                        '        &self,\\n'\n",
      "                        '        collection_name: &str,\\n'\n",
      "                        '        request: CountRequestInternal,\\n'\n",
      "                        '        read_consistency: Option<ReadConsistency>,\\n'\n",
      "                        '        shard_selection: ShardSelectorInternal,\\n'\n",
      "                        '    ) -> Result<CountResult, StorageError> {\\n'\n",
      "                        '        let collection = '\n",
      "                        'self.get_collection(collection_name).await?;\\n'\n",
      "                        '        collection\\n'\n",
      "                        '            .count(request, read_consistency, '\n",
      "                        '&shard_selection)\\n'\n",
      "                        '            .await\\n'\n",
      "                        '            .map_err(|err| err.into())\\n'\n",
      "                        '    }\\n'}}\n"
     ]
    }
   ],
   "source": [
    "import pprint\n",
    "\n",
    "pprint.pp(hits[0].payload)"
   ]
  },
  {
   "cell_type": "markdown",
   "id": "6fa1b55f-14d8-42bc-adc8-2945ecebd21f",
   "metadata": {},
   "source": [
    "### Using code embedding"
   ]
  },
  {
   "cell_type": "code",
   "execution_count": 30,
   "id": "235256b3-5d0c-4dbf-b8b0-c1280191b7fe",
   "metadata": {},
   "outputs": [],
   "source": [
    "hits = client.query_points(\n",
    "    \"qdrant-sources\",\n",
    "    query=code_model.encode(query).tolist(),\n",
    "    using=\"code\",\n",
    "    limit=5,\n",
    ").points"
   ]
  },
  {
   "cell_type": "code",
   "execution_count": 31,
   "id": "9d004aa7-dceb-42db-be1d-7a33b9e05787",
   "metadata": {},
   "outputs": [
    {
     "name": "stdout",
     "output_type": "stream",
     "text": [
      "{'name': 'count_indexed_points',\n",
      " 'signature': 'fn count_indexed_points (& self) -> usize',\n",
      " 'code_type': 'Function',\n",
      " 'docstring': None,\n",
      " 'line': 612,\n",
      " 'line_from': 612,\n",
      " 'line_to': 614,\n",
      " 'context': {'module': 'field_index',\n",
      "             'file_path': 'lib/segment/src/index/field_index/geo_index.rs',\n",
      "             'file_name': 'geo_index.rs',\n",
      "             'struct_name': 'GeoMapIndex',\n",
      "             'snippet': '    fn count_indexed_points(&self) -> usize {\\n'\n",
      "                        '        self.points_count()\\n'\n",
      "                        '    }\\n'}}\n"
     ]
    }
   ],
   "source": [
    "pprint.pp(hits[0].payload)"
   ]
  },
  {
   "cell_type": "markdown",
   "id": "db0d492a-697f-49fd-ab99-81915165f37f",
   "metadata": {},
   "source": [
    "### Using text + code embedding"
   ]
  },
  {
   "cell_type": "code",
   "execution_count": 33,
   "id": "a989b93c-9ae0-42e9-8e12-a906af16a5d9",
   "metadata": {},
   "outputs": [],
   "source": [
    "responses = client.query_batch_points(\n",
    "    \"qdrant-sources\",\n",
    "    requests=[\n",
    "        models.QueryRequest(\n",
    "            query=nlp_model.encode(query).tolist(),\n",
    "            using=\"text\",\n",
    "            with_payload=True,\n",
    "            limit=5,\n",
    "        ),\n",
    "        models.QueryRequest(\n",
    "            query=code_model.encode(query).tolist(),\n",
    "            using=\"code\",\n",
    "            with_payload=True,\n",
    "            limit=5,\n",
    "        ),\n",
    "    ],\n",
    ")\n",
    "\n",
    "results = [response.points for response in responses]"
   ]
  },
  {
   "cell_type": "code",
   "execution_count": 38,
   "id": "47a8fa25-0ff1-43c1-829a-b9025f22cf6e",
   "metadata": {},
   "outputs": [
    {
     "name": "stdout",
     "output_type": "stream",
     "text": [
      "{'name': 'count',\n",
      " 'signature': 'async fn count (& self , collection_name : & str , request : '\n",
      "              'CountRequestInternal , read_consistency : Option < '\n",
      "              'ReadConsistency > , shard_selection : ShardSelectorInternal ,) '\n",
      "              '-> Result < CountResult , StorageError >',\n",
      " 'code_type': 'Function',\n",
      " 'docstring': '= \" Count points in the collection.\"',\n",
      " 'line': 120,\n",
      " 'line_from': 108,\n",
      " 'line_to': 132,\n",
      " 'context': {'module': 'toc',\n",
      "             'file_path': 'lib/storage/src/content_manager/toc/point_ops.rs',\n",
      "             'file_name': 'point_ops.rs',\n",
      "             'struct_name': 'TableOfContent',\n",
      "             'snippet': '    /// Count points in the collection.\\n'\n",
      "                        '    ///\\n'\n",
      "                        '    /// # Arguments\\n'\n",
      "                        '    ///\\n'\n",
      "                        '    /// * `collection_name` - in what collection do '\n",
      "                        'we count\\n'\n",
      "                        '    /// * `request` - [`CountRequestInternal`]\\n'\n",
      "                        '    /// * `shard_selection` - which local shard to '\n",
      "                        'use\\n'\n",
      "                        '    ///\\n'\n",
      "                        '    /// # Result\\n'\n",
      "                        '    ///\\n'\n",
      "                        '    /// Number of points in the collection.\\n'\n",
      "                        '    ///\\n'\n",
      "                        '    pub async fn count(\\n'\n",
      "                        '        &self,\\n'\n",
      "                        '        collection_name: &str,\\n'\n",
      "                        '        request: CountRequestInternal,\\n'\n",
      "                        '        read_consistency: Option<ReadConsistency>,\\n'\n",
      "                        '        shard_selection: ShardSelectorInternal,\\n'\n",
      "                        '    ) -> Result<CountResult, StorageError> {\\n'\n",
      "                        '        let collection = '\n",
      "                        'self.get_collection(collection_name).await?;\\n'\n",
      "                        '        collection\\n'\n",
      "                        '            .count(request, read_consistency, '\n",
      "                        '&shard_selection)\\n'\n",
      "                        '            .await\\n'\n",
      "                        '            .map_err(|err| err.into())\\n'\n",
      "                        '    }\\n'}}\n"
     ]
    }
   ],
   "source": [
    "pprint.pp(results[0][0].payload)"
   ]
  },
  {
   "cell_type": "markdown",
   "id": "80302cea-5116-42ed-97f8-02780b9988df",
   "metadata": {},
   "source": [
    "### Grouping the results\n"
   ]
  },
  {
   "cell_type": "code",
   "execution_count": 41,
   "id": "fbc7057a-8f03-4e28-b455-ea52491ed6ae",
   "metadata": {},
   "outputs": [],
   "source": [
    "results = client.query_points_groups(\n",
    "    \"qdrant-sources\",\n",
    "    query=code_model.encode(query).tolist(),\n",
    "    using=\"code\",\n",
    "    group_by=\"context.module\",\n",
    "    limit=5,\n",
    "    group_size=1,\n",
    ")"
   ]
  },
  {
   "cell_type": "code",
   "execution_count": 53,
   "id": "08e3aff1-88a3-40c1-a5bc-0bdd8032e04a",
   "metadata": {},
   "outputs": [
    {
     "name": "stdout",
     "output_type": "stream",
     "text": [
      "{'name': 'count_indexed_points',\n",
      " 'signature': 'fn count_indexed_points (& self) -> usize',\n",
      " 'code_type': 'Function',\n",
      " 'docstring': None,\n",
      " 'line': 612,\n",
      " 'line_from': 612,\n",
      " 'line_to': 614,\n",
      " 'context': {'module': 'field_index',\n",
      "             'file_path': 'lib/segment/src/index/field_index/geo_index.rs',\n",
      "             'file_name': 'geo_index.rs',\n",
      "             'struct_name': 'GeoMapIndex',\n",
      "             'snippet': '    fn count_indexed_points(&self) -> usize {\\n'\n",
      "                        '        self.points_count()\\n'\n",
      "                        '    }\\n'}}\n"
     ]
    }
   ],
   "source": [
    "pprint.pp(results.groups[0].hits[0].payload)"
   ]
  }
 ],
 "metadata": {
  "kernelspec": {
   "display_name": "Python 3 (ipykernel)",
   "language": "python",
   "name": "python3"
  },
  "language_info": {
   "codemirror_mode": {
    "name": "ipython",
    "version": 3
   },
   "file_extension": ".py",
   "mimetype": "text/x-python",
   "name": "python",
   "nbconvert_exporter": "python",
   "pygments_lexer": "ipython3",
   "version": "3.12.9"
  }
 },
 "nbformat": 4,
 "nbformat_minor": 5
}
