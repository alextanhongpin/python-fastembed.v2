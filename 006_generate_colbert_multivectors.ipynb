{
 "cells": [
  {
   "cell_type": "markdown",
   "id": "538f2d2f-fc71-4d38-9aff-a1ff0833eaed",
   "metadata": {},
   "source": [
    "# How to Generate ColBERT Multivectors with FastEmbed\n",
    "\n",
    "https://qdrant.tech/documentation/fastembed/fastembed-colbert/"
   ]
  },
  {
   "cell_type": "code",
   "execution_count": 5,
   "id": "2f9f2249-33cf-4350-aec0-ff9c52eee6e5",
   "metadata": {},
   "outputs": [],
   "source": [
    "from fastembed import LateInteractionTextEmbedding"
   ]
  },
  {
   "cell_type": "code",
   "execution_count": 6,
   "id": "43e1ac09-4fa4-4366-9099-a69a2ef5032b",
   "metadata": {},
   "outputs": [
    {
     "data": {
      "text/plain": [
       "{'model': 'colbert-ir/colbertv2.0',\n",
       " 'sources': {'hf': 'colbert-ir/colbertv2.0', 'url': None},\n",
       " 'model_file': 'model.onnx',\n",
       " 'description': 'Late interaction model',\n",
       " 'license': 'mit',\n",
       " 'size_in_GB': 0.44,\n",
       " 'additional_files': [],\n",
       " 'dim': 128,\n",
       " 'tasks': {}}"
      ]
     },
     "execution_count": 6,
     "metadata": {},
     "output_type": "execute_result"
    }
   ],
   "source": [
    "LateInteractionTextEmbedding.list_supported_models()[0]"
   ]
  },
  {
   "cell_type": "code",
   "execution_count": 8,
   "id": "ab076a6f-ffc1-429e-b0f1-369c37800993",
   "metadata": {},
   "outputs": [],
   "source": [
    "embedding_model = LateInteractionTextEmbedding(\"colbert-ir/colbertv2.0\")"
   ]
  },
  {
   "cell_type": "markdown",
   "id": "37a95e94-9880-418c-aa56-06f6afbf8c77",
   "metadata": {},
   "source": [
    "## Embed data"
   ]
  },
  {
   "cell_type": "code",
   "execution_count": 9,
   "id": "f00db6b7-b9a4-42ad-a891-1a25141a498f",
   "metadata": {},
   "outputs": [],
   "source": [
    "descriptions = [\n",
    "    \"In 1431, Jeanne d'Arc is placed on trial on charges of heresy. The ecclesiastical jurists attempt to force Jeanne to recant her claims of holy visions.\",\n",
    "    \"A film projectionist longs to be a detective, and puts his meagre skills to work when he is framed by a rival for stealing his girlfriend's father's pocketwatch.\",\n",
    "    \"A group of high-end professional thieves start to feel the heat from the LAPD when they unknowingly leave a clue at their latest heist.\",\n",
    "    \"A petty thief with an utter resemblance to a samurai warlord is hired as the lord's double. When the warlord later dies the thief is forced to take up arms in his place.\",\n",
    "    \"A young boy named Kubo must locate a magical suit of armour worn by his late father in order to defeat a vengeful spirit from the past.\",\n",
    "    \"A biopic detailing the 2 decades that Punjabi Sikh revolutionary Udham Singh spent planning the assassination of the man responsible for the Jallianwala Bagh massacre.\",\n",
    "    \"When a machine that allows therapists to enter their patients' dreams is stolen, all hell breaks loose. Only a young female therapist, Paprika, can stop it.\",\n",
    "    \"An ordinary word processor has the worst night of his life after he agrees to visit a girl in Soho whom he met that evening at a coffee shop.\",\n",
    "    \"A story that revolves around drug abuse in the affluent north Indian State of Punjab and how the youth there have succumbed to it en-masse resulting in a socio-economic decline.\",\n",
    "    \"A world-weary political journalist picks up the story of a woman's search for her son, who was taken away from her decades ago after she became pregnant and was forced to live in a convent.\",\n",
    "    \"Concurrent theatrical ending of the TV series Neon Genesis Evangelion (1995).\",\n",
    "    \"During World War II, a rebellious U.S. Army Major is assigned a dozen convicted murderers to train and lead them into a mass assassination mission of German officers.\",\n",
    "    \"The toys are mistakenly delivered to a day-care center instead of the attic right before Andy leaves for college, and it's up to Woody to convince the other toys that they weren't abandoned and to return home.\",\n",
    "    \"A soldier fighting aliens gets to relive the same day over and over again, the day restarting every time he dies.\",\n",
    "    \"After two male musicians witness a mob hit, they flee the state in an all-female band disguised as women, but further complications set in.\",\n",
    "    \"Exiled into the dangerous forest by her wicked stepmother, a princess is rescued by seven dwarf miners who make her part of their household.\",\n",
    "    \"A renegade reporter trailing a young runaway heiress for a big story joins her on a bus heading from Florida to New York, and they end up stuck with each other when the bus leaves them behind at one of the stops.\",\n",
    "    \"Story of 40-man Turkish task force who must defend a relay station.\",\n",
    "    \"Spinal Tap, one of England's loudest bands, is chronicled by film director Marty DiBergi on what proves to be a fateful tour.\",\n",
    "    \"Oskar, an overlooked and bullied boy, finds love and revenge through Eli, a beautiful but peculiar girl.\",\n",
    "]"
   ]
  },
  {
   "cell_type": "code",
   "execution_count": 10,
   "id": "0cf0fb5a-1d5b-4029-975c-9ed399615d5b",
   "metadata": {},
   "outputs": [
    {
     "data": {
      "text/plain": [
       "(48, 128)"
      ]
     },
     "execution_count": 10,
     "metadata": {},
     "output_type": "execute_result"
    }
   ],
   "source": [
    "descriptions_embeddings = list(embedding_model.embed(descriptions))\n",
    "descriptions_embeddings[0].shape"
   ]
  },
  {
   "cell_type": "markdown",
   "id": "a8b62e11-756f-4961-b8d9-48caa97f94c9",
   "metadata": {},
   "source": [
    "## Upload embeddings to Qdrant"
   ]
  },
  {
   "cell_type": "code",
   "execution_count": 11,
   "id": "9b5b84a0-8cea-4680-9396-cf5a0779c029",
   "metadata": {},
   "outputs": [],
   "source": [
    "from qdrant_client import QdrantClient, models\n",
    "\n",
    "qdrant_client = QdrantClient(\":memory:\")"
   ]
  },
  {
   "cell_type": "code",
   "execution_count": 15,
   "id": "70f487b2-dcaf-415a-b32e-33d5b57122a2",
   "metadata": {},
   "outputs": [
    {
     "data": {
      "text/plain": [
       "True"
      ]
     },
     "execution_count": 15,
     "metadata": {},
     "output_type": "execute_result"
    }
   ],
   "source": [
    "qdrant_client.create_collection(\n",
    "    collection_name=\"movies\",\n",
    "    vectors_config=models.VectorParams(\n",
    "        size=128,  # Size of each vector produced by ColBERT\n",
    "        distance=models.Distance.COSINE,\n",
    "        multivector_config=models.MultiVectorConfig(\n",
    "            comparator=models.MultiVectorComparator.MAX_SIM\n",
    "        ),\n",
    "    ),\n",
    ")"
   ]
  },
  {
   "cell_type": "code",
   "execution_count": 16,
   "id": "f970cdfd-e418-469a-a9bb-2e39f3555d26",
   "metadata": {},
   "outputs": [],
   "source": [
    "metadata = [\n",
    "    {\n",
    "        \"movie_name\": \"The Passion of Joan of Arc\",\n",
    "        \"movie_watch_time_min\": 114,\n",
    "        \"movie_description\": \"In 1431, Jeanne d'Arc is placed on trial on charges of heresy. The ecclesiastical jurists attempt to force Jeanne to recant her claims of holy visions.\",\n",
    "    },\n",
    "    {\n",
    "        \"movie_name\": \"Sherlock Jr.\",\n",
    "        \"movie_watch_time_min\": 45,\n",
    "        \"movie_description\": \"A film projectionist longs to be a detective, and puts his meagre skills to work when he is framed by a rival for stealing his girlfriend's father's pocketwatch.\",\n",
    "    },\n",
    "    {\n",
    "        \"movie_name\": \"Heat\",\n",
    "        \"movie_watch_time_min\": 170,\n",
    "        \"movie_description\": \"A group of high-end professional thieves start to feel the heat from the LAPD when they unknowingly leave a clue at their latest heist.\",\n",
    "    },\n",
    "    {\n",
    "        \"movie_name\": \"Kagemusha\",\n",
    "        \"movie_watch_time_min\": 162,\n",
    "        \"movie_description\": \"A petty thief with an utter resemblance to a samurai warlord is hired as the lord's double. When the warlord later dies the thief is forced to take up arms in his place.\",\n",
    "    },\n",
    "    {\n",
    "        \"movie_name\": \"Kubo and the Two Strings\",\n",
    "        \"movie_watch_time_min\": 101,\n",
    "        \"movie_description\": \"A young boy named Kubo must locate a magical suit of armour worn by his late father in order to defeat a vengeful spirit from the past.\",\n",
    "    },\n",
    "    {\n",
    "        \"movie_name\": \"Sardar Udham\",\n",
    "        \"movie_watch_time_min\": 164,\n",
    "        \"movie_description\": \"A biopic detailing the 2 decades that Punjabi Sikh revolutionary Udham Singh spent planning the assassination of the man responsible for the Jallianwala Bagh massacre.\",\n",
    "    },\n",
    "    {\n",
    "        \"movie_name\": \"Paprika\",\n",
    "        \"movie_watch_time_min\": 90,\n",
    "        \"movie_description\": \"When a machine that allows therapists to enter their patients' dreams is stolen, all hell breaks loose. Only a young female therapist, Paprika, can stop it.\",\n",
    "    },\n",
    "    {\n",
    "        \"movie_name\": \"After Hours\",\n",
    "        \"movie_watch_time_min\": 97,\n",
    "        \"movie_description\": \"An ordinary word processor has the worst night of his life after he agrees to visit a girl in Soho whom he met that evening at a coffee shop.\",\n",
    "    },\n",
    "    {\n",
    "        \"movie_name\": \"Udta Punjab\",\n",
    "        \"movie_watch_time_min\": 148,\n",
    "        \"movie_description\": \"A story that revolves around drug abuse in the affluent north Indian State of Punjab and how the youth there have succumbed to it en-masse resulting in a socio-economic decline.\",\n",
    "    },\n",
    "    {\n",
    "        \"movie_name\": \"Philomena\",\n",
    "        \"movie_watch_time_min\": 98,\n",
    "        \"movie_description\": \"A world-weary political journalist picks up the story of a woman's search for her son, who was taken away from her decades ago after she became pregnant and was forced to live in a convent.\",\n",
    "    },\n",
    "    {\n",
    "        \"movie_name\": \"Neon Genesis Evangelion: The End of Evangelion\",\n",
    "        \"movie_watch_time_min\": 87,\n",
    "        \"movie_description\": \"Concurrent theatrical ending of the TV series Neon Genesis Evangelion (1995).\",\n",
    "    },\n",
    "    {\n",
    "        \"movie_name\": \"The Dirty Dozen\",\n",
    "        \"movie_watch_time_min\": 150,\n",
    "        \"movie_description\": \"During World War II, a rebellious U.S. Army Major is assigned a dozen convicted murderers to train and lead them into a mass assassination mission of German officers.\",\n",
    "    },\n",
    "    {\n",
    "        \"movie_name\": \"Toy Story 3\",\n",
    "        \"movie_watch_time_min\": 103,\n",
    "        \"movie_description\": \"The toys are mistakenly delivered to a day-care center instead of the attic right before Andy leaves for college, and it's up to Woody to convince the other toys that they weren't abandoned and to return home.\",\n",
    "    },\n",
    "    {\n",
    "        \"movie_name\": \"Edge of Tomorrow\",\n",
    "        \"movie_watch_time_min\": 113,\n",
    "        \"movie_description\": \"A soldier fighting aliens gets to relive the same day over and over again, the day restarting every time he dies.\",\n",
    "    },\n",
    "    {\n",
    "        \"movie_name\": \"Some Like It Hot\",\n",
    "        \"movie_watch_time_min\": 121,\n",
    "        \"movie_description\": \"After two male musicians witness a mob hit, they flee the state in an all-female band disguised as women, but further complications set in.\",\n",
    "    },\n",
    "    {\n",
    "        \"movie_name\": \"Snow White and the Seven Dwarfs\",\n",
    "        \"movie_watch_time_min\": 83,\n",
    "        \"movie_description\": \"Exiled into the dangerous forest by her wicked stepmother, a princess is rescued by seven dwarf miners who make her part of their household.\",\n",
    "    },\n",
    "    {\n",
    "        \"movie_name\": \"It Happened One Night\",\n",
    "        \"movie_watch_time_min\": 105,\n",
    "        \"movie_description\": \"A renegade reporter trailing a young runaway heiress for a big story joins her on a bus heading from Florida to New York, and they end up stuck with each other when the bus leaves them behind at one of the stops.\",\n",
    "    },\n",
    "    {\n",
    "        \"movie_name\": \"Nefes: Vatan Sagolsun\",\n",
    "        \"movie_watch_time_min\": 128,\n",
    "        \"movie_description\": \"Story of 40-man Turkish task force who must defend a relay station.\",\n",
    "    },\n",
    "    {\n",
    "        \"movie_name\": \"This Is Spinal Tap\",\n",
    "        \"movie_watch_time_min\": 82,\n",
    "        \"movie_description\": \"Spinal Tap, one of England's loudest bands, is chronicled by film director Marty DiBergi on what proves to be a fateful tour.\",\n",
    "    },\n",
    "    {\n",
    "        \"movie_name\": \"Let the Right One In\",\n",
    "        \"movie_watch_time_min\": 114,\n",
    "        \"movie_description\": \"Oskar, an overlooked and bullied boy, finds love and revenge through Eli, a beautiful but peculiar girl.\",\n",
    "    },\n",
    "]"
   ]
  },
  {
   "cell_type": "code",
   "execution_count": 17,
   "id": "518cd9dd-46b6-4c31-8c46-31c1dccc6bcf",
   "metadata": {},
   "outputs": [],
   "source": [
    "qdrant_client.upload_points(\n",
    "    collection_name=\"movies\",\n",
    "    points=[\n",
    "        models.PointStruct(id=idx, payload=metadata[idx], vector=vector)\n",
    "        for idx, vector in enumerate(descriptions_embeddings)\n",
    "    ],\n",
    ")"
   ]
  },
  {
   "cell_type": "markdown",
   "id": "0a690e14-32b6-4d1a-8a74-c2a979636b11",
   "metadata": {},
   "source": [
    "## Querying"
   ]
  },
  {
   "cell_type": "code",
   "execution_count": 18,
   "id": "c76dff71-1f81-4e9c-8593-c97cda146e49",
   "metadata": {},
   "outputs": [
    {
     "data": {
      "text/plain": [
       "QueryResponse(points=[ScoredPoint(id=4, version=0, score=12.06346668699247, payload={'movie_name': 'Kubo and the Two Strings', 'movie_watch_time_min': 101, 'movie_description': 'A young boy named Kubo must locate a magical suit of armour worn by his late father in order to defeat a vengeful spirit from the past.'}, vector=None, shard_key=None, order_value=None)])"
      ]
     },
     "execution_count": 18,
     "metadata": {},
     "output_type": "execute_result"
    }
   ],
   "source": [
    "qdrant_client.query_points(\n",
    "    collection_name=\"movies\",\n",
    "    query=list(\n",
    "        embedding_model.query_embed(\n",
    "            \"A movie for kids with fantasy elements and wonders\"\n",
    "        )\n",
    "    )[0],\n",
    "    limit=1,\n",
    "    with_vectors=False,  # Returns vectors\n",
    "    with_payload=True,  # Returns metadata\n",
    ")"
   ]
  },
  {
   "cell_type": "code",
   "execution_count": null,
   "id": "3c541268-7a09-482a-94a6-c2892d3bf1d6",
   "metadata": {},
   "outputs": [],
   "source": []
  }
 ],
 "metadata": {
  "kernelspec": {
   "display_name": "Python 3 (ipykernel)",
   "language": "python",
   "name": "python3"
  },
  "language_info": {
   "codemirror_mode": {
    "name": "ipython",
    "version": 3
   },
   "file_extension": ".py",
   "mimetype": "text/x-python",
   "name": "python",
   "nbconvert_exporter": "python",
   "pygments_lexer": "ipython3",
   "version": "3.12.9"
  }
 },
 "nbformat": 4,
 "nbformat_minor": 5
}
